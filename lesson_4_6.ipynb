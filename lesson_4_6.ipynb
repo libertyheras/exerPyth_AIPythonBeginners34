{
  "cells": [
    {
      "cell_type": "markdown",
      "metadata": {
        "id": "view-in-github",
        "colab_type": "text"
      },
      "source": [
        "<a href=\"https://colab.research.google.com/github/libertyheras/exerPyth_AIPythonBeginners34/blob/main/lesson_4_6.ipynb\" target=\"_parent\"><img src=\"https://colab.research.google.com/assets/colab-badge.svg\" alt=\"Open In Colab\"/></a>"
      ]
    },
    {
      "cell_type": "markdown",
      "metadata": {
        "id": "44yObqrTtf0G"
      },
      "source": [
        "# Lesson 6: APIs to use AI models"
      ]
    },
    {
      "cell_type": "markdown",
      "metadata": {
        "id": "qrvT82eetf0I"
      },
      "source": [
        "\n",
        "In this lesson, you will learn how to use the OpenAI API. You'll also see how the `print_llm_response` and `get_llm_response` functions you have been using work to pass your prompt to the OpenAI API and retrieve the response.\n",
        "\n",
        "As always, you'll start by loading some functions you need:"
      ]
    },
    {
      "cell_type": "code",
      "execution_count": null,
      "metadata": {
        "height": 63,
        "id": "vm10ETHEtf0I"
      },
      "outputs": [],
      "source": [
        "import os\n",
        "from dotenv import load_dotenv\n",
        "from openai import OpenAI"
      ]
    },
    {
      "cell_type": "markdown",
      "metadata": {
        "id": "xl7rFEHAtf0J"
      },
      "source": [
        "Note the `openai` package, which you are using for the first time! The `OpenAI` function here is what enables the connect in Python to the chatbot. Check out the [OpenAI documentation](https://platform.openai.com/docs/api-reference/introduction) if you want to learn more!\n",
        "\n",
        "**Note:** If you want to install this on your own computer, you would run `!pip install openai`. But it's already installed here for you."
      ]
    },
    {
      "cell_type": "markdown",
      "metadata": {
        "id": "1zPTOIqUtf0J"
      },
      "source": [
        "<p style=\"background-color:#F5C780; padding:15px\"> 🤖 <b>Use the Chatbot</b>:\n",
        "<br><br>\n",
        "Explain what each line of this function does:\n",
        "<br><br>\n",
        "def get_llm_response(prompt):<br>\n",
        "&nbsp &nbsp &nbsp completion = client.chat.completions.create(<br>\n",
        "&nbsp &nbsp &nbsp model=\"gpt-4o-mini\",<br>\n",
        "&nbsp &nbsp &nbspmessages=[<br>\n",
        "&nbsp &nbsp &nbsp&nbsp{<br>\n",
        "&nbsp &nbsp &nbsp&nbsp&nbsp\"role\": \"system\",<br>\n",
        "&nbsp &nbsp &nbsp&nbsp&nbsp\"content\": \"You are a helpful but terse AI assistant who gets straight to the point.\",<br>\n",
        "&nbsp &nbsp &nbsp&nbsp&nbsp},<br>\n",
        "&nbsp &nbsp &nbsp&nbsp{\"role\": \"user\", \"content\": prompt},<br>\n",
        "&nbsp &nbsp &nbsp&nbsp],<br>\n",
        "&nbsp &nbsp &nbsptemperature=0.0,<br>\n",
        "&nbsp &nbsp &nbsp)<br>\n",
        "&nbsp &nbsp &nbspresponse = completion.choices[0].message.content<br>\n",
        "&nbspreturn response<br>\n",
        "</p>"
      ]
    },
    {
      "cell_type": "markdown",
      "metadata": {
        "id": "h3zhyvSQtf0J"
      },
      "source": [
        "## Setting up the API key\n",
        "\n",
        "To use the OpenAI API service you need an API key. Run the following code to set up the key in this learning environment:"
      ]
    },
    {
      "cell_type": "code",
      "execution_count": null,
      "metadata": {
        "height": 80,
        "id": "SkneR9pBtf0K"
      },
      "outputs": [],
      "source": [
        "# Get the OpenAI API key from the .env file\n",
        "load_dotenv('.env', override=True)\n",
        "openai_api_key = os.getenv('OPENAI_API_KEY')\n",
        "client = OpenAI(api_key = openai_api_key)"
      ]
    },
    {
      "cell_type": "markdown",
      "metadata": {
        "id": "cSBBSNl6tf0K"
      },
      "source": [
        "## Revisiting ```get_llm_response```"
      ]
    },
    {
      "cell_type": "markdown",
      "metadata": {
        "id": "5OChdV46tf0K"
      },
      "source": [
        "Here is the code you saw in the slides to define the ```get_llm_response``` function:"
      ]
    },
    {
      "cell_type": "code",
      "execution_count": null,
      "metadata": {
        "height": 250,
        "id": "3ZkYUYMltf0K"
      },
      "outputs": [],
      "source": [
        "def get_llm_response(prompt):\n",
        "    completion = client.chat.completions.create(\n",
        "        model=\"gpt-4o-mini\",\n",
        "        messages=[\n",
        "            {\n",
        "                \"role\": \"system\",\n",
        "                \"content\": \"You are an AI assistant.\",\n",
        "            },\n",
        "            {\"role\": \"user\", \"content\": prompt},\n",
        "        ],\n",
        "        temperature=0.0,\n",
        "    )\n",
        "    response = completion.choices[0].message.content\n",
        "    return response"
      ]
    },
    {
      "cell_type": "markdown",
      "metadata": {
        "id": "KEMKokc0tf0K"
      },
      "source": [
        "You can now use this function to ask a question to an LLM:"
      ]
    },
    {
      "cell_type": "code",
      "execution_count": null,
      "metadata": {
        "height": 63,
        "id": "tgwDSPUdtf0K",
        "outputId": "6247aebf-8c92-4bda-b32a-0a574e68392c"
      },
      "outputs": [
        {
          "name": "stdout",
          "output_type": "stream",
          "text": [
            "The capital of France is Paris.\n"
          ]
        }
      ],
      "source": [
        "prompt = \"What is the capital of France?\"\n",
        "response = get_llm_response(prompt)\n",
        "print(response)"
      ]
    },
    {
      "cell_type": "markdown",
      "metadata": {
        "id": "Dvn1v43htf0L"
      },
      "source": [
        "## Modifying the system message to change the LLM behavior\n",
        "\n",
        "Try changing/adding details in the \"content\" of the system message to change the LLM response\n",
        "* For example, \"You are a sarcastic AI assistant.\"\n",
        "* Be sure to run the function cell each time you change the system message before you prompt the LLM."
      ]
    },
    {
      "cell_type": "code",
      "execution_count": null,
      "metadata": {
        "height": 267,
        "id": "d8jYORzFtf0L"
      },
      "outputs": [],
      "source": [
        "def get_llm_response(prompt):\n",
        "    completion = client.chat.completions.create(\n",
        "        model=\"gpt-4o-mini\",\n",
        "        messages=[\n",
        "            {\n",
        "                \"role\": \"system\",\n",
        "                \"content\": \"You are an AI assistant.\", # change this instruction!\n",
        "            },\n",
        "            {\"role\": \"user\", \"content\": prompt},\n",
        "        ],\n",
        "        temperature=0.0,\n",
        "    )\n",
        "    response = completion.choices[0].message.content\n",
        "    return response"
      ]
    },
    {
      "cell_type": "markdown",
      "metadata": {
        "id": "KWZQ5UCCtf0L"
      },
      "source": [
        "Now give your prompt to the LLM:"
      ]
    },
    {
      "cell_type": "code",
      "execution_count": null,
      "metadata": {
        "height": 63,
        "id": "WyZ-tCTmtf0L",
        "outputId": "83d81e25-f938-42fa-b3c3-8a63c4a4182c"
      },
      "outputs": [
        {
          "name": "stdout",
          "output_type": "stream",
          "text": [
            "The capital of France is Paris.\n"
          ]
        }
      ],
      "source": [
        "prompt = \"What is the capital of France?\"\n",
        "response = get_llm_response(prompt)\n",
        "print(response)"
      ]
    },
    {
      "cell_type": "markdown",
      "metadata": {
        "id": "zn8nkGnotf0L"
      },
      "source": [
        "Vary the system prompt a few times to see the behavior change!"
      ]
    },
    {
      "cell_type": "markdown",
      "metadata": {
        "id": "pVLP4hehtf0L"
      },
      "source": [
        "## Modify the temperature to change the randomness of the output\n",
        "\n",
        "Try changing the temperature value to make the response of the model more random and different each time\n",
        "* For example, set the temperature to 1.0 or 0.7 and see what happens\n",
        "* Be sure to run the function cell each time you change the temperature before you prompt the LLM."
      ]
    },
    {
      "cell_type": "code",
      "execution_count": null,
      "metadata": {
        "height": 250,
        "id": "a2NFmmVztf0L"
      },
      "outputs": [],
      "source": [
        "def get_llm_response(prompt):\n",
        "    completion = client.chat.completions.create(\n",
        "        model=\"gpt-4o-mini\",\n",
        "        messages=[\n",
        "            {\n",
        "                \"role\": \"system\",\n",
        "                \"content\": \"You are an AI assistant.\",\n",
        "            },\n",
        "            {\"role\": \"user\", \"content\": prompt},\n",
        "        ],\n",
        "        temperature=0.0, # change this to a value between 0 and 2\n",
        "    )\n",
        "    response = completion.choices[0].message.content\n",
        "    return response"
      ]
    },
    {
      "cell_type": "markdown",
      "metadata": {
        "id": "nFOnAfFCtf0L"
      },
      "source": [
        "Now give your prompt to the LLM"
      ]
    },
    {
      "cell_type": "code",
      "execution_count": null,
      "metadata": {
        "height": 63,
        "id": "msMcg4wStf0L",
        "outputId": "dc1b3853-d967-42c5-9b52-575358b59dfd"
      },
      "outputs": [
        {
          "name": "stdout",
          "output_type": "stream",
          "text": [
            "The capital of France is Paris.\n"
          ]
        }
      ],
      "source": [
        "prompt = \"What is the capital of France?\"\n",
        "response = get_llm_response(prompt)\n",
        "print(response)"
      ]
    },
    {
      "cell_type": "markdown",
      "metadata": {
        "id": "bL94m4Vntf0M"
      },
      "source": [
        "Change the temperature to a value greater than 0 and run the prompt cell a few times to see the response change!"
      ]
    },
    {
      "cell_type": "markdown",
      "metadata": {
        "id": "CtrBMyCutf0M"
      },
      "source": [
        "## Using LLMs through the `aisetup` package\n",
        "\n",
        "If you have installed aisetup on your own computer, you'll need to run an extra line of code to get your own API key into the notebook and accessible to the `print_llm_response` and `get_llm_response` functions:"
      ]
    },
    {
      "cell_type": "code",
      "execution_count": null,
      "metadata": {
        "height": 199,
        "id": "elV7WY-Jtf0M",
        "outputId": "744e006e-92e3-4d6e-9971-9c255536d40b"
      },
      "outputs": [
        {
          "name": "stdout",
          "output_type": "stream",
          "text": [
            "The capital of France is Paris.\n",
            "The capital of France is Paris.\n"
          ]
        }
      ],
      "source": [
        "from aisetup import authenticate, print_llm_response, get_llm_response\n",
        "\n",
        "authenticate(\"YOUR API KEY HERE\")\n",
        "\n",
        "# Print the LLM response\n",
        "print_llm_response(\"What is the capital of France\")\n",
        "\n",
        "# Store the LLM response as a variable and then print\n",
        "response = get_llm_response(\"What is the capital of France\")\n",
        "print(response)"
      ]
    },
    {
      "cell_type": "markdown",
      "metadata": {
        "id": "9elAbCC_tf0M"
      },
      "source": [
        "**Note:** Please follow best practices and **don't** expose your API KEY in any code you write!\n",
        "\n",
        "You can try this method instead:"
      ]
    },
    {
      "cell_type": "code",
      "execution_count": null,
      "metadata": {
        "height": 267,
        "id": "o9cHMqG7tf0M",
        "outputId": "2a1f0187-6921-4c4b-aa45-88533b46f01b"
      },
      "outputs": [
        {
          "name": "stdout",
          "output_type": "stream",
          "text": [
            "The capital of France is Paris.\n",
            "The capital of France is Paris.\n",
            "None\n"
          ]
        }
      ],
      "source": [
        "from aisetup import authenticate, print_llm_response, get_llm_response\n",
        "from dotenv import load_dotenv\n",
        "import os\n",
        "\n",
        "load_dotenv('.env', override=True)\n",
        "openai_api_key = os.getenv('OPENAI_API_KEY')\n",
        "authenticate(openai_api_key)\n",
        "\n",
        "# Print the LLM response\n",
        "print_llm_response(\"What is the capital of France\")\n",
        "\n",
        "# Store the LLM response as a variable and then print\n",
        "response = print_llm_response(\"What is the capital of France\")\n",
        "print(response)"
      ]
    },
    {
      "cell_type": "markdown",
      "metadata": {
        "id": "lUOJ8o5ttf0M"
      },
      "source": [
        "## Extra practice\n",
        "\n",
        "Ask the chatbot for help understanding how the `load_dotenv` code works. Ask for step-by-step instructions on how you can create and setup a `.env` file on your own computer."
      ]
    }
  ],
  "metadata": {
    "kernelspec": {
      "display_name": "Python 3 (ipykernel)",
      "language": "python",
      "name": "python3"
    },
    "language_info": {
      "codemirror_mode": {
        "name": "ipython",
        "version": 3
      },
      "file_extension": ".py",
      "mimetype": "text/x-python",
      "name": "python",
      "nbconvert_exporter": "python",
      "pygments_lexer": "ipython3",
      "version": "3.9.19"
    },
    "colab": {
      "provenance": [],
      "include_colab_link": true
    }
  },
  "nbformat": 4,
  "nbformat_minor": 0
}