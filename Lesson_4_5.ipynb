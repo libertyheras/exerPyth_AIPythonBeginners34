{
  "cells": [
    {
      "cell_type": "markdown",
      "metadata": {
        "id": "view-in-github",
        "colab_type": "text"
      },
      "source": [
        "<a href=\"https://colab.research.google.com/github/libertyheras/exerPyth_AIPythonBeginners34/blob/main/Lesson_4_5.ipynb\" target=\"_parent\"><img src=\"https://colab.research.google.com/assets/colab-badge.svg\" alt=\"Open In Colab\"/></a>"
      ]
    },
    {
      "cell_type": "markdown",
      "metadata": {
        "id": "G9HJuK9utXC-"
      },
      "source": [
        "# Lesson 5: APIs to get data from the web"
      ]
    },
    {
      "cell_type": "markdown",
      "metadata": {
        "id": "_Kc_-kB6tXDA"
      },
      "source": [
        "In this lesson, you will work with a weather API (Application Programming Interface) to get the current conditions at any location.\n",
        "\n",
        "Start by importing some helper functions\n",
        "* **Note:** You are now importing `print_llm_response` from the `aisetup` package!\n"
      ]
    },
    {
      "cell_type": "code",
      "execution_count": null,
      "metadata": {
        "height": 80,
        "id": "QLkHJs33tXDA"
      },
      "outputs": [],
      "source": [
        "import os\n",
        "import requests\n",
        "from aisetup import print_llm_response\n",
        "from dotenv import load_dotenv"
      ]
    },
    {
      "cell_type": "markdown",
      "metadata": {
        "id": "PtQMWZuYtXDB"
      },
      "source": [
        "## Retrieving weather data from an API"
      ]
    },
    {
      "cell_type": "markdown",
      "metadata": {
        "id": "5p57hxNBtXDC"
      },
      "source": [
        "In this section, you'll use an API to retrieve real time weather data from [https://openweathermap.org](https://openweathermap.org).\n",
        "\n",
        "Most APIs require an **API key**. You can think of this as a password that is unique to you.\n",
        "\n",
        "The API key has been setup for this learning environment, so you don't have to do anything except run the code.\n",
        "\n",
        "You can visit the [openweathermap website](https://openweathermap.org/price) for information about setting up an API key to use outside of this learning platform.\n",
        "\n",
        "Run the following cell to setup the API key for this lesson:"
      ]
    },
    {
      "cell_type": "code",
      "execution_count": null,
      "metadata": {
        "height": 80,
        "id": "cfzWDFwjtXDD"
      },
      "outputs": [],
      "source": [
        "# Get the Weather API key from the .env file\n",
        "# https://openweathermap.org/price\n",
        "load_dotenv('.env', override=True)\n",
        "api_key = os.getenv('WEATHER_API_KEY')"
      ]
    },
    {
      "cell_type": "markdown",
      "metadata": {
        "id": "ORPM0XIqtXDD"
      },
      "source": [
        "Set up the latitude and longitude coordinates to pass to the API:"
      ]
    },
    {
      "cell_type": "code",
      "execution_count": null,
      "metadata": {
        "height": 97,
        "id": "JPvECr0DtXDD"
      },
      "outputs": [],
      "source": [
        "# Store the latitude value in the 'lat' variable\n",
        "lat = 37.4419   # Palo Alto, CA\n",
        "\n",
        "# Store the longitude value in the 'long' variable\n",
        "lon = -122.1430"
      ]
    },
    {
      "cell_type": "markdown",
      "metadata": {
        "id": "pKBQzQgAtXDE"
      },
      "source": [
        "**Note:** Feel free to change the lat and lon values above to your current location or a place you would like to retrieve weather data!"
      ]
    },
    {
      "cell_type": "markdown",
      "metadata": {
        "id": "JU11sNc0tXDE"
      },
      "source": [
        "Call the Weather API, passing in the API key and your coordinates.\n",
        "* These are added as part of the `url` f-string below:"
      ]
    },
    {
      "cell_type": "code",
      "execution_count": null,
      "metadata": {
        "height": 97,
        "id": "U4kBFNDLtXDE"
      },
      "outputs": [],
      "source": [
        "url = f\"https://api.openweathermap.org/data/2.5/forecast?units=metric&cnt=1&lat={lat}&lon={lon}&appid={api_key}\"\n",
        "\n",
        "# Use the get function from the requests library to store the response from the API\n",
        "response = requests.get(url)"
      ]
    },
    {
      "cell_type": "markdown",
      "metadata": {
        "id": "TayB7_3DtXDE"
      },
      "source": [
        "Now extract the data from the response variable:"
      ]
    },
    {
      "cell_type": "code",
      "execution_count": null,
      "metadata": {
        "height": 114,
        "id": "X62wMqOUtXDF",
        "outputId": "aab0fe87-3801-430a-d268-8cc83806d487"
      },
      "outputs": [
        {
          "name": "stdout",
          "output_type": "stream",
          "text": [
            "{'cod': '200', 'message': 0, 'cnt': 1, 'list': [{'dt': 1730268000, 'main': {'temp': 11.44, 'feels_like': 10.62, 'temp_min': 10.17, 'temp_max': 11.44, 'pressure': 1018, 'sea_level': 1018, 'grnd_level': 1004, 'humidity': 76, 'temp_kf': 1.27}, 'weather': [{'id': 802, 'main': 'Clouds', 'description': 'scattered clouds', 'icon': '03n'}], 'clouds': {'all': 40}, 'wind': {'speed': 2.06, 'deg': 222, 'gust': 1.58}, 'visibility': 10000, 'pop': 0, 'sys': {'pod': 'n'}, 'dt_txt': '2024-10-30 06:00:00'}], 'city': {'id': 5380748, 'name': 'Palo Alto', 'coord': {'lat': 37.4419, 'lon': -122.143}, 'country': 'US', 'population': 64403, 'timezone': -25200, 'sunrise': 1730212249, 'sunset': 1730250809}}\n"
          ]
        }
      ],
      "source": [
        "# Take the response from the API (in JSON) and assign it to a Python dictionary\n",
        "data = response.json()\n",
        "\n",
        "# Print\n",
        "print(data)"
      ]
    },
    {
      "cell_type": "markdown",
      "metadata": {
        "id": "mx6RDwKKtXDF"
      },
      "source": [
        "**Note** The responses you get from APIs are usually given in JSON (JavaScript Object Notation) format, which is a variation on a python dictionary."
      ]
    },
    {
      "cell_type": "markdown",
      "metadata": {
        "id": "m2DTtSAWtXDF"
      },
      "source": [
        "## Display the weather forecast\n",
        "\n",
        "To display the weather forecast in a nicely formatted way, you need to extract information from the data dictionary. Let's ask the chatbot how to do this:"
      ]
    },
    {
      "cell_type": "markdown",
      "metadata": {
        "id": "ceOUM1_jtXDF"
      },
      "source": [
        "<p style=\"background-color:#F5C780; padding:15px\"> 🤖 <b>Use the Chatbot</b>:\n",
        "<br><br>\n",
        "How do I get the temperature, description and wind speed from this data variable:\n",
        "<br><br>\n",
        "{'cod': '200', 'message': 0, 'cnt': 1, 'list': [{'dt': 1723831200, 'main': {'temp': 34.14, 'feels_like': 23.94, 'temp_min': 22.84, 'temp_max': 24.02, 'pressure': 1017, 'sea_level': 1017, 'grnd_level': 949, 'humidity': 56, 'temp_kf': 1.15}, 'weather': [{'id': 800, 'main': 'Clear', 'description': 'clear sky', 'icon': '01d'}], 'clouds': {'all': 0}, 'wind': {'speed': 3.18, 'deg': 191, 'gust': 3.83}, 'visibility': 10000, 'pop': 0, 'sys': {'pod': 'd'}, 'dt_txt': '2024-08-16 18:00:00'}], 'city': {'id': 5518301, 'name': 'Carey', 'coord': {'lat': 34.38, 'lon': -100.36}, 'country': 'US', 'population': 0, 'timezone': -18000, 'sunrise': 1723809821, 'sunset': 1723858068}\n",
        "</p>"
      ]
    },
    {
      "cell_type": "markdown",
      "metadata": {
        "id": "mh67OJf3tXDG"
      },
      "source": [
        "Try the code suggested by the chatbot to save the desired information as variables:"
      ]
    },
    {
      "cell_type": "code",
      "execution_count": null,
      "metadata": {
        "height": 63,
        "id": "4fibvayZtXDG"
      },
      "outputs": [],
      "source": [
        "temperature = data['list'][0]['main']['temp']\n",
        "description = data['list'][0]['weather'][0]['description']\n",
        "wind_speed = data['list'][0]['wind']['speed']"
      ]
    },
    {
      "cell_type": "markdown",
      "metadata": {
        "id": "Ra48BL-JtXDG"
      },
      "source": [
        "Print out the results nicely!"
      ]
    },
    {
      "cell_type": "code",
      "execution_count": null,
      "metadata": {
        "height": 63,
        "id": "adJT9WB8tXDG",
        "outputId": "47eb9c2a-4edc-4da9-b7a4-18469d2e4666"
      },
      "outputs": [
        {
          "name": "stdout",
          "output_type": "stream",
          "text": [
            "Temperature: 11.44\n",
            "Weather Description: scattered clouds\n",
            "Wind Speed: 2.06\n"
          ]
        }
      ],
      "source": [
        "print(f\"Temperature: {temperature}\")\n",
        "print(f\"Weather Description: {description}\")\n",
        "print(f\"Wind Speed: {wind_speed}\")"
      ]
    },
    {
      "cell_type": "markdown",
      "metadata": {
        "id": "r659HMCOtXDH"
      },
      "source": [
        "Write a better weather report:"
      ]
    },
    {
      "cell_type": "code",
      "execution_count": null,
      "metadata": {
        "height": 114,
        "id": "Re2Rf8PgtXDH",
        "outputId": "ef9eae2c-a1dd-49c0-b96d-6312a08d97f8"
      },
      "outputs": [
        {
          "name": "stdout",
          "output_type": "stream",
          "text": [
            "The temperature is 11.44°C. \n",
            "It is currently scattered clouds,\n",
            "with a wind speed of 2.06m/s.\n",
            "\n"
          ]
        }
      ],
      "source": [
        "weather_string = f\"\"\"The temperature is {temperature}°C.\n",
        "It is currently {description},\n",
        "with a wind speed of {wind_speed}m/s.\n",
        "\"\"\"\n",
        "\n",
        "print(weather_string)"
      ]
    },
    {
      "cell_type": "markdown",
      "metadata": {
        "id": "ji1mvCk6tXDH"
      },
      "source": [
        "## Use an LLM to plan your outfit\n",
        "\n",
        "You can ask an LLM for outfit recommendations based on the current weather conditions at your location.\n",
        "\n",
        "Setup a prompt with the instructions and the weather report you just created, then pass it to the LLM:"
      ]
    },
    {
      "cell_type": "code",
      "execution_count": null,
      "metadata": {
        "height": 148,
        "id": "aSUGAloatXDH",
        "outputId": "933eeae7-b43f-418c-e908-5c1aff5447b9"
      },
      "outputs": [
        {
          "name": "stdout",
          "output_type": "stream",
          "text": [
            "Wear a light long-sleeve shirt or a thin sweater, paired with jeans or comfortable pants. Add a light jacket for warmth and consider wearing closed-toe shoes. A scarf may also be a good idea for added comfort.\n"
          ]
        }
      ],
      "source": [
        "prompt = f\"\"\"Based on the following weather,\n",
        "suggest an appropriate outdoor outfit.\n",
        "\n",
        "Forecast: {weather_string}\n",
        "\"\"\"\n",
        "\n",
        "# Print the LLM response\n",
        "print_llm_response(prompt)"
      ]
    },
    {
      "cell_type": "markdown",
      "metadata": {
        "id": "BnkRFt49tXDI"
      },
      "source": [
        "## Extra practice\n",
        "\n",
        "Try the exercise below to practice what you have learned. Don't hesitate to ask the chatbot for help if you get stuck!\n",
        "\n",
        "**Note:** To find your current coordinates, you can navigate to [Google Maps](maps.google.com) and right click your location:\n",
        "\n",
        "<img src=\"google_maps_coordinates.png\" alt=\"Finding your coordinates using Google Maps\" style=\"width:60%;\"/>"
      ]
    },
    {
      "cell_type": "code",
      "execution_count": null,
      "metadata": {
        "height": 284,
        "id": "Kr4APT8ctXDI",
        "outputId": "e605e66e-ee99-40dd-e721-ccd7348bff90"
      },
      "outputs": [
        {
          "name": "stdout",
          "output_type": "stream",
          "text": [
            "The temperature currently feels like 26.55°C in \n"
          ]
        }
      ],
      "source": [
        "import requests\n",
        "\n",
        "# Example coordinates for where you are located, replace with your actual coordinates\n",
        "lat = 12.34  # Insert the latitude here\n",
        "lon = 56.78  # Insert the longitude here\n",
        "api_key = os.getenv('WEATHER_API_KEY')\n",
        "\n",
        "\n",
        "url = f\"https://api.openweathermap.org/data/2.5/forecast?units=metric&cnt=1&lat={lat}&lon={lon}&appid={api_key}\"\n",
        "response = requests.get(url)\n",
        "\n",
        "data = response.json()\n",
        "feels_like = data['list'][0]['main']['feels_like']\n",
        "city = data['city']['name']\n",
        "print(f\"The temperature currently feels like {feels_like}°C in {city}\")"
      ]
    }
  ],
  "metadata": {
    "kernelspec": {
      "display_name": "Python 3 (ipykernel)",
      "language": "python",
      "name": "python3"
    },
    "language_info": {
      "codemirror_mode": {
        "name": "ipython",
        "version": 3
      },
      "file_extension": ".py",
      "mimetype": "text/x-python",
      "name": "python",
      "nbconvert_exporter": "python",
      "pygments_lexer": "ipython3",
      "version": "3.9.19"
    },
    "colab": {
      "provenance": [],
      "include_colab_link": true
    }
  },
  "nbformat": 4,
  "nbformat_minor": 0
}