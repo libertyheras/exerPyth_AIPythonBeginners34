{
  "cells": [
    {
      "cell_type": "markdown",
      "metadata": {
        "id": "view-in-github",
        "colab_type": "text"
      },
      "source": [
        "<a href=\"https://colab.research.google.com/github/libertyheras/exerPyth_AIPythonBeginners34/blob/main/lesson_3_5_.ipynb\" target=\"_parent\"><img src=\"https://colab.research.google.com/assets/colab-badge.svg\" alt=\"Open In Colab\"/></a>"
      ]
    },
    {
      "cell_type": "markdown",
      "metadata": {
        "id": "2wKmaf8uMBv8"
      },
      "source": [
        "# Lesson 5: Vacation planning using CSV files\n",
        "\n",
        "In this lesson you'll learn to read in and work with data stored in CSV format. Data of this type looks like a table with rows and columns, and is referred to by programmers as **structured data**.\n",
        "\n",
        "As always, begin by loading the helper functions you'll use:"
      ]
    },
    {
      "cell_type": "code",
      "execution_count": null,
      "metadata": {
        "height": 97,
        "id": "8LcqyBitMBv-"
      },
      "outputs": [],
      "source": [
        "# Imports\n",
        "from helper_functions import get_llm_response, print_llm_response, display_table\n",
        "from IPython.display import Markdown\n",
        "import csv"
      ]
    },
    {
      "cell_type": "markdown",
      "metadata": {
        "id": "j78l0sw_MBwA"
      },
      "source": [
        "Note that `import csv` here is new. Don't worry about the details for now, but this line of code will be used later to read in CSV data. You'll learn more about this code in Course 4."
      ]
    },
    {
      "cell_type": "markdown",
      "metadata": {
        "id": "gYPTEQexMBwA"
      },
      "source": [
        "## Loading data from a CSV file"
      ]
    },
    {
      "cell_type": "markdown",
      "metadata": {
        "id": "7y0qgndkMBwA"
      },
      "source": [
        "You'll use the file ```itinerary.csv```, which has information about arrival and departure dates for each destination in a trip around the world.\n",
        "\n",
        "Here is the code to load the file - the first part is the same as you've been using up to this point:"
      ]
    },
    {
      "cell_type": "code",
      "execution_count": null,
      "metadata": {
        "height": 29,
        "id": "yTDtJq1dMBwB"
      },
      "outputs": [],
      "source": [
        "f = open(\"itinerary.csv\", 'r')"
      ]
    },
    {
      "cell_type": "markdown",
      "metadata": {
        "id": "6m98zyrqMBwB"
      },
      "source": [
        "The next part, where you read the data in from the file, is different because you are now reading in a CSV file:"
      ]
    },
    {
      "cell_type": "code",
      "execution_count": null,
      "metadata": {
        "height": 97,
        "id": "Yt9TrcgbMBwB",
        "outputId": "7fe77bd4-c285-4fa3-a6e5-bfc8482200fc"
      },
      "outputs": [
        {
          "name": "stdout",
          "output_type": "stream",
          "text": [
            "{'Arrival': 'July-01', 'Departure': 'July-08', 'City': 'New York', 'Country': 'USA'}\n",
            "{'Arrival': 'July-09', 'Departure': 'July-16', 'City': 'Rio de Janeiro', 'Country': 'Brazil'}\n",
            "{'Arrival': 'July-17', 'Departure': 'July-24', 'City': 'Cape Town', 'Country': 'South Africa'}\n",
            "{'Arrival': 'July-25', 'Departure': 'August-01', 'City': 'Istanbul', 'Country': 'Turkey'}\n",
            "{'Arrival': 'August-02', 'Departure': 'August-09', 'City': 'Paris', 'Country': 'France'}\n",
            "{'Arrival': 'August-10', 'Departure': 'August-17', 'City': 'Tokyo', 'Country': 'Japan'}\n",
            "{'Arrival': 'August-18', 'Departure': 'August-25', 'City': 'Sydney', 'Country': 'Australia'}\n"
          ]
        }
      ],
      "source": [
        "csv_reader = csv.DictReader(f)\n",
        "itinerary = []\n",
        "for row in csv_reader:\n",
        "    print(row)\n",
        "    itinerary.append(row)"
      ]
    },
    {
      "cell_type": "markdown",
      "metadata": {
        "id": "7w7wDc46MBwC"
      },
      "source": [
        "Now close the file:"
      ]
    },
    {
      "cell_type": "code",
      "execution_count": null,
      "metadata": {
        "height": 29,
        "id": "yNXLrShBMBwD"
      },
      "outputs": [],
      "source": [
        "f.close()"
      ]
    },
    {
      "cell_type": "markdown",
      "metadata": {
        "id": "rgxUnd57MBwD"
      },
      "source": [
        "You can print the itinerary to view it's content and use the `type` function to check the datatype:"
      ]
    },
    {
      "cell_type": "code",
      "execution_count": null,
      "metadata": {
        "height": 29,
        "id": "FGHHzCIqMBwD",
        "outputId": "189fa1ed-5bc5-453b-9966-c583280b1571"
      },
      "outputs": [
        {
          "name": "stdout",
          "output_type": "stream",
          "text": [
            "[{'Arrival': 'July-01', 'Departure': 'July-08', 'City': 'New York', 'Country': 'USA'}, {'Arrival': 'July-09', 'Departure': 'July-16', 'City': 'Rio de Janeiro', 'Country': 'Brazil'}, {'Arrival': 'July-17', 'Departure': 'July-24', 'City': 'Cape Town', 'Country': 'South Africa'}, {'Arrival': 'July-25', 'Departure': 'August-01', 'City': 'Istanbul', 'Country': 'Turkey'}, {'Arrival': 'August-02', 'Departure': 'August-09', 'City': 'Paris', 'Country': 'France'}, {'Arrival': 'August-10', 'Departure': 'August-17', 'City': 'Tokyo', 'Country': 'Japan'}, {'Arrival': 'August-18', 'Departure': 'August-25', 'City': 'Sydney', 'Country': 'Australia'}]\n"
          ]
        }
      ],
      "source": [
        "print(itinerary)"
      ]
    },
    {
      "cell_type": "code",
      "execution_count": null,
      "metadata": {
        "height": 29,
        "id": "oz87pFWYMBwD",
        "outputId": "e2fe7585-82dc-4679-f2ac-fa09d59c8327"
      },
      "outputs": [
        {
          "data": {
            "text/plain": [
              "list"
            ]
          },
          "execution_count": 7,
          "metadata": {},
          "output_type": "execute_result"
        }
      ],
      "source": [
        "type(itinerary)"
      ]
    },
    {
      "cell_type": "markdown",
      "metadata": {
        "id": "b4tL9gFmMBwE"
      },
      "source": [
        "Now take a look at the first item\n",
        "* Remember the first item in a list has index 0"
      ]
    },
    {
      "cell_type": "code",
      "execution_count": null,
      "metadata": {
        "height": 46,
        "id": "5vLdf-jeMBwE",
        "outputId": "684d8ea1-65b5-4349-da3a-46f2c3c8eeb2"
      },
      "outputs": [
        {
          "name": "stdout",
          "output_type": "stream",
          "text": [
            "{'Arrival': 'July-01', 'Departure': 'July-08', 'City': 'New York', 'Country': 'USA'}\n"
          ]
        }
      ],
      "source": [
        "# Print item 0\n",
        "print(itinerary[0])"
      ]
    },
    {
      "cell_type": "markdown",
      "metadata": {
        "id": "XCKp5AthMBwE"
      },
      "source": [
        "This is a dictionary. You can access a particular value by passing in the key - let's look at the `Country` value in the first row of the itinerary:"
      ]
    },
    {
      "cell_type": "code",
      "execution_count": null,
      "metadata": {
        "height": 29,
        "id": "3gb-SqV_MBwE",
        "outputId": "80efa569-9c13-4241-c7e0-b4eb5a6ec403"
      },
      "outputs": [
        {
          "name": "stdout",
          "output_type": "stream",
          "text": [
            "USA\n"
          ]
        }
      ],
      "source": [
        "print(itinerary[0][\"Country\"])"
      ]
    },
    {
      "cell_type": "markdown",
      "metadata": {
        "id": "OTqGVVbGMBwE"
      },
      "source": [
        "## Try for yourself!\n",
        "\n",
        "Pause the video and explore other rows in the itinerary list, or individual items in any destination. Modify the code below to explore this world tour!"
      ]
    },
    {
      "cell_type": "code",
      "execution_count": null,
      "metadata": {
        "height": 46,
        "id": "oZkAgJE8MBwE",
        "outputId": "3680628b-dff0-4d12-b42b-ba2b3727297c"
      },
      "outputs": [
        {
          "name": "stdout",
          "output_type": "stream",
          "text": [
            "{'Arrival': 'July-01', 'Departure': 'July-08', 'City': 'New York', 'Country': 'USA'}\n",
            "USA\n"
          ]
        }
      ],
      "source": [
        "print(itinerary[0])\n",
        "print(itinerary[0][\"Country\"])"
      ]
    },
    {
      "cell_type": "markdown",
      "metadata": {
        "id": "BnwkEhKJMBwF"
      },
      "source": [
        "<p style=\"background-color:#F5C780; padding:15px\"> 🤖 <b>Use the Chatbot</b>:\n",
        "    <br><br>\n",
        "    Explain this code line by line:\n",
        "    <br><br>f = open(\"itinerary.csv\", 'r')\n",
        "    <br>csv_reader = csv.DictReader(f)\n",
        "    <br>itinerary = []\n",
        "    <br>for row in csv_reader:\n",
        "    <br>itinerary.append(row)\n",
        "    <br><br>f.close()\n",
        "</p>"
      ]
    },
    {
      "cell_type": "markdown",
      "metadata": {
        "id": "Tx3rWoMKMBwF"
      },
      "source": [
        "## Structured Data"
      ]
    },
    {
      "cell_type": "markdown",
      "metadata": {
        "id": "QNKl5ORlMBwG"
      },
      "source": [
        "Let's visualize this itinerary in a more readable way.\n",
        "\n",
        "* Use the ```display_table``` helper function:"
      ]
    },
    {
      "cell_type": "code",
      "execution_count": null,
      "metadata": {
        "height": 29,
        "id": "mODQRSa5MBwG",
        "outputId": "1614c8e8-fe79-4c39-871e-5a97224f5f8b"
      },
      "outputs": [
        {
          "data": {
            "text/html": [
              "<table border=\"1\" class=\"dataframe\">\n",
              "  <thead>\n",
              "    <tr style=\"text-align: right;\">\n",
              "      <th>Arrival</th>\n",
              "      <th>Departure</th>\n",
              "      <th>City</th>\n",
              "      <th>Country</th>\n",
              "    </tr>\n",
              "  </thead>\n",
              "  <tbody>\n",
              "    <tr>\n",
              "      <td>July-01</td>\n",
              "      <td>July-08</td>\n",
              "      <td>New York</td>\n",
              "      <td>USA</td>\n",
              "    </tr>\n",
              "    <tr>\n",
              "      <td>July-09</td>\n",
              "      <td>July-16</td>\n",
              "      <td>Rio de Janeiro</td>\n",
              "      <td>Brazil</td>\n",
              "    </tr>\n",
              "    <tr>\n",
              "      <td>July-17</td>\n",
              "      <td>July-24</td>\n",
              "      <td>Cape Town</td>\n",
              "      <td>South Africa</td>\n",
              "    </tr>\n",
              "    <tr>\n",
              "      <td>July-25</td>\n",
              "      <td>August-01</td>\n",
              "      <td>Istanbul</td>\n",
              "      <td>Turkey</td>\n",
              "    </tr>\n",
              "    <tr>\n",
              "      <td>August-02</td>\n",
              "      <td>August-09</td>\n",
              "      <td>Paris</td>\n",
              "      <td>France</td>\n",
              "    </tr>\n",
              "    <tr>\n",
              "      <td>August-10</td>\n",
              "      <td>August-17</td>\n",
              "      <td>Tokyo</td>\n",
              "      <td>Japan</td>\n",
              "    </tr>\n",
              "    <tr>\n",
              "      <td>August-18</td>\n",
              "      <td>August-25</td>\n",
              "      <td>Sydney</td>\n",
              "      <td>Australia</td>\n",
              "    </tr>\n",
              "  </tbody>\n",
              "</table>"
            ],
            "text/plain": [
              "<IPython.core.display.HTML object>"
            ]
          },
          "metadata": {},
          "output_type": "display_data"
        }
      ],
      "source": [
        "display_table(itinerary)"
      ]
    },
    {
      "cell_type": "markdown",
      "metadata": {
        "id": "5uzc6dDIMBwG"
      },
      "source": [
        "Next, write code to filter the table based on some criterion - in this case if the country is Japan - and then add the information for that stop to a new list called `filtered_data`:"
      ]
    },
    {
      "cell_type": "code",
      "execution_count": null,
      "metadata": {
        "height": 148,
        "id": "N11LTsEfMBwG"
      },
      "outputs": [],
      "source": [
        "# Create an empty list to store the filtered data\n",
        "filtered_data = []\n",
        "\n",
        "# Filter by country\n",
        "for trip_stop in itinerary:\n",
        "    # For example: get the destinations located in \"Japan\"\n",
        "    if trip_stop[\"Country\"] == \"Japan\":\n",
        "        filtered_data.append(trip_stop)"
      ]
    },
    {
      "cell_type": "code",
      "execution_count": null,
      "metadata": {
        "height": 29,
        "id": "9DE8FN7FMBwH",
        "outputId": "634097fb-44f1-430d-b453-26f5fea8b3cd"
      },
      "outputs": [
        {
          "data": {
            "text/html": [
              "<table border=\"1\" class=\"dataframe\">\n",
              "  <thead>\n",
              "    <tr style=\"text-align: right;\">\n",
              "      <th>Arrival</th>\n",
              "      <th>Departure</th>\n",
              "      <th>City</th>\n",
              "      <th>Country</th>\n",
              "    </tr>\n",
              "  </thead>\n",
              "  <tbody>\n",
              "    <tr>\n",
              "      <td>August-10</td>\n",
              "      <td>August-17</td>\n",
              "      <td>Tokyo</td>\n",
              "      <td>Japan</td>\n",
              "    </tr>\n",
              "  </tbody>\n",
              "</table>"
            ],
            "text/plain": [
              "<IPython.core.display.HTML object>"
            ]
          },
          "metadata": {},
          "output_type": "display_data"
        }
      ],
      "source": [
        "display_table(filtered_data)"
      ]
    },
    {
      "cell_type": "markdown",
      "metadata": {
        "id": "fCpazj2zMBwH"
      },
      "source": [
        "Note that the `filtered_data` variable only contains one row."
      ]
    },
    {
      "cell_type": "markdown",
      "metadata": {
        "id": "4ReGILIbMBwH"
      },
      "source": [
        "## Using AI to suggest trip activities"
      ]
    },
    {
      "cell_type": "markdown",
      "metadata": {
        "id": "NmdK0C0-MBwI"
      },
      "source": [
        "Retrieve the first destination and then ask an LLM for suggestions of activities to do in that location during the dates of the visit:"
      ]
    },
    {
      "cell_type": "code",
      "execution_count": null,
      "metadata": {
        "height": 80,
        "id": "IOnEebFBMBwI",
        "outputId": "298da788-e3c7-435d-bd8b-297302c48096"
      },
      "outputs": [
        {
          "name": "stdout",
          "output_type": "stream",
          "text": [
            "{'Arrival': 'July-01', 'Departure': 'July-08', 'City': 'New York', 'Country': 'USA'}\n"
          ]
        }
      ],
      "source": [
        "# Select the first destination from the itinerary list (Hint: index=0)\n",
        "trip_stop = itinerary[0]\n",
        "print(trip_stop)"
      ]
    },
    {
      "cell_type": "markdown",
      "metadata": {
        "id": "J2nQTh82MBwI"
      },
      "source": [
        "Create variables to store all the individual items from ```trip_stop```:"
      ]
    },
    {
      "cell_type": "code",
      "execution_count": null,
      "metadata": {
        "height": 80,
        "id": "NMPSjxh5MBwI"
      },
      "outputs": [],
      "source": [
        "city = trip_stop[\"City\"]\n",
        "country = trip_stop[\"Country\"]\n",
        "arrival = trip_stop[\"Arrival\"]\n",
        "departure = trip_stop[\"Departure\"]"
      ]
    },
    {
      "cell_type": "markdown",
      "metadata": {
        "id": "3MqcglX1MBwI"
      },
      "source": [
        "Write a prompt to get activity suggestions for your trip destination:"
      ]
    },
    {
      "cell_type": "code",
      "execution_count": null,
      "metadata": {
        "height": 97,
        "id": "2dFkR9yVMBwI",
        "outputId": "bc84ff7d-d23f-458a-9b83-f2de34e9db0f"
      },
      "outputs": [
        {
          "name": "stdout",
          "output_type": "stream",
          "text": [
            "I will visit New York, USA, from July-01 to July-08. \n",
            "Please create a detailed daily itinerary.\n"
          ]
        }
      ],
      "source": [
        "prompt = f\"\"\"I will visit {city}, {country}, from {arrival} to {departure}.\n",
        "Please create a detailed daily itinerary.\"\"\"\n",
        "\n",
        "print(prompt)"
      ]
    },
    {
      "cell_type": "markdown",
      "metadata": {
        "id": "QmehOBV4MBwJ"
      },
      "source": [
        "Use Markdown to display the LLM response nicely in the Jupyter notebook:"
      ]
    },
    {
      "cell_type": "code",
      "execution_count": null,
      "metadata": {
        "height": 97,
        "id": "_wK5xEHTMBwJ",
        "outputId": "17e74fa4-02ea-4de1-9240-75e79751bbb2"
      },
      "outputs": [
        {
          "data": {
            "text/markdown": [
              "**New York City Itinerary: July 1 - July 8**\n",
              "\n",
              "**Day 1: July 1 (Saturday)**\n",
              "- **Morning:** Arrive in NYC, check into your hotel.\n",
              "- **Afternoon:** Explore Times Square; grab lunch at a nearby café.\n",
              "- **Evening:** Dinner at a restaurant in Hell's Kitchen; see a Broadway show.\n",
              "\n",
              "**Day 2: July 2 (Sunday)**\n",
              "- **Morning:** Visit the Statue of Liberty and Ellis Island (book tickets in advance).\n",
              "- **Afternoon:** Explore Battery Park; lunch in the Financial District.\n",
              "- **Evening:** Walk across the Brooklyn Bridge; dinner in DUMBO.\n",
              "\n",
              "**Day 3: July 3 (Monday)**\n",
              "- **Morning:** Visit the 9/11 Memorial & Museum.\n",
              "- **Afternoon:** Explore Wall Street; lunch at a local deli.\n",
              "- **Evening:** Visit One World Observatory for sunset views; dinner in Tribeca.\n",
              "\n",
              "**Day 4: July 4 (Tuesday)**\n",
              "- **Morning:** Visit Central Park; rent a bike or take a walking tour.\n",
              "- **Afternoon:** Explore the Metropolitan Museum of Art (The Met).\n",
              "- **Evening:** Enjoy Independence Day fireworks (check location and time).\n",
              "\n",
              "**Day 5: July 5 (Wednesday)**\n",
              "- **Morning:** Visit the American Museum of Natural History.\n",
              "- **Afternoon:** Lunch on the Upper West Side; stroll through Central Park.\n",
              "- **Evening:** Explore Lincoln Center; dinner nearby.\n",
              "\n",
              "**Day 6: July 6 (Thursday)**\n",
              "- **Morning:** Visit the High Line; walk through Chelsea Market for lunch.\n",
              "- **Afternoon:** Explore the Whitney Museum of American Art.\n",
              "- **Evening:** Dinner in the West Village; enjoy live music at a local venue.\n",
              "\n",
              "**Day 7: July 7 (Friday)**\n",
              "- **Morning:** Visit the Empire State Building or Top of the Rock for views.\n",
              "- **Afternoon:** Explore Fifth Avenue; lunch at a café.\n",
              "- **Evening:** Visit the Museum of Modern Art (MoMA); dinner in Midtown.\n",
              "\n",
              "**Day 8: July 8 (Saturday)**\n",
              "- **Morning:** Last-minute shopping or visit any missed attractions.\n",
              "- **Afternoon:** Check out of your hotel; lunch nearby.\n",
              "- **Evening:** Depart NYC.\n",
              "\n",
              "**Tips:**\n",
              "- Use the subway for efficient travel.\n",
              "- Book tickets for popular attractions in advance.\n",
              "- Check for any special events or festivals during your visit."
            ],
            "text/plain": [
              "<IPython.core.display.Markdown object>"
            ]
          },
          "metadata": {},
          "output_type": "display_data"
        }
      ],
      "source": [
        "# Store the LLM response\n",
        "response = get_llm_response(prompt)\n",
        "\n",
        "# Print in Markdown format\n",
        "display(Markdown(response))"
      ]
    },
    {
      "cell_type": "markdown",
      "metadata": {
        "id": "mIidayl2MBwJ"
      },
      "source": [
        "## Extra Practice\n",
        "\n",
        "In these exercises, you'll create an itinerary for another stop on the trip!\n",
        "\n",
        "### Exercise 1\n",
        "\n",
        "First, create a filtered dataset for Brazil. You'll need to update the `if` statement to select the right country."
      ]
    },
    {
      "cell_type": "code",
      "execution_count": null,
      "metadata": {
        "height": 182,
        "id": "DMALibLoMBwJ",
        "outputId": "9e99878b-c83f-468f-f4b3-23a31dde4cc9"
      },
      "outputs": [
        {
          "name": "stdout",
          "output_type": "stream",
          "text": [
            "[{'Arrival': 'July-09', 'Departure': 'July-16', 'City': 'Rio de Janeiro', 'Country': 'Brazil'}]\n"
          ]
        }
      ],
      "source": [
        "# Create an empty list to store the filtered data\n",
        "filtered_data = []\n",
        "\n",
        "# Filter by country\n",
        "for trip_stop in itinerary:\n",
        "    # For example: get the destinations located in \"Brazil\"\n",
        "    if trip_stop[\"Country\"] == \"Brazil\":\n",
        "        filtered_data.append(trip_stop)\n",
        "\n",
        "print(filtered_data)"
      ]
    },
    {
      "cell_type": "markdown",
      "metadata": {
        "id": "csD3KBZTMBwJ"
      },
      "source": [
        "### Exercise 2\n",
        "\n",
        "Next, update the variables to pass in the prompt to the LLM. You'll need to modify the code on the next line to select the first item from `filtered_data` rather than the whole `itinerary`."
      ]
    },
    {
      "cell_type": "code",
      "execution_count": null,
      "metadata": {
        "height": 199,
        "id": "7jXrzijrMBwK",
        "outputId": "488df8d7-435d-4211-9845-0385ee7ea2d8"
      },
      "outputs": [
        {
          "name": "stdout",
          "output_type": "stream",
          "text": [
            "The city is: New York\n",
            "The country is: USA\n",
            "The arrival date is: July-01\n",
            "The departure date is: July-08\n"
          ]
        }
      ],
      "source": [
        "trip_stop = itinerary[0]\n",
        "\n",
        "city = trip_stop[\"City\"]\n",
        "country = trip_stop[\"Country\"]\n",
        "arrival = trip_stop[\"Arrival\"]\n",
        "departure = trip_stop[\"Departure\"]\n",
        "\n",
        "print(f\"The city is: {city}\")\n",
        "print(f\"The country is: {country}\")\n",
        "print(f\"The arrival date is: {arrival}\")\n",
        "print(f\"The departure date is: {departure}\")"
      ]
    },
    {
      "cell_type": "markdown",
      "metadata": {
        "id": "Er7fSRapMBwK"
      },
      "source": [
        "Now, you can run the prompt to get a new itinerary!"
      ]
    },
    {
      "cell_type": "code",
      "execution_count": null,
      "metadata": {
        "height": 97,
        "id": "9wkCRYpMMBwK",
        "outputId": "3e7d393e-9a0f-4192-b841-8afa446ad878"
      },
      "outputs": [
        {
          "name": "stdout",
          "output_type": "stream",
          "text": [
            "### New York City Itinerary: July 1 - July 8\n",
            "\n",
            "#### Day 1: July 1 (Saturday)\n",
            "- **Morning:** Arrive in NYC, check into your hotel.\n",
            "- **Afternoon:** Explore Central Park (Bethesda Terrace, Bow Bridge).\n",
            "- **Evening:** Dinner in the Upper West Side (e.g., Jacob's Pickles).\n",
            "\n",
            "#### Day 2: July 2 (Sunday)\n",
            "- **Morning:** Visit the American Museum of Natural History.\n",
            "- **Afternoon:** Walk through the Upper West Side, visit the Dakota Building.\n",
            "- **Evening:** Catch a Broadway show (book tickets in advance).\n",
            "\n",
            "#### Day 3: July 3 (Monday)\n",
            "- **Morning:** Visit the Statue of Liberty and Ellis Island (book ferry tickets).\n",
            "- **Afternoon:** Explore Wall Street and the Financial District.\n",
            "- **Evening:** Dinner at Stone Street.\n",
            "\n",
            "#### Day 4: July 4 (Tuesday - Independence Day)\n",
            "- **Morning:** Visit the 9/11 Memorial & Museum.\n",
            "- **Afternoon:** Walk through Battery Park, enjoy views of the harbor.\n",
            "- **Evening:** Watch the Macy's 4th of July Fireworks (find a good viewing spot early).\n",
            "\n",
            "#### Day 5: July 5 (Wednesday)\n",
            "- **Morning:** Visit the Metropolitan Museum of Art.\n",
            "- **Afternoon:** Stroll down Fifth Avenue, visit St. Patrick's Cathedral.\n",
            "- **Evening:** Dinner in Midtown (e.g., The Capital Grille).\n",
            "\n",
            "#### Day 6: July 6 (Thursday)\n",
            "- **Morning:** Explore the High Line and Chelsea Market.\n",
            "- **Afternoon:** Visit the Whitney Museum of American Art.\n",
            "- **Evening:** Walk through Greenwich Village, dinner at a local eatery.\n",
            "\n",
            "#### Day 7: July 7 (Friday)\n",
            "- **Morning:** Visit the Empire State Building or Top of the Rock for views.\n",
            "- **Afternoon:** Explore Times Square and nearby attractions.\n",
            "- **Evening:** Dinner in Hell's Kitchen, explore nightlife options.\n",
            "\n",
            "#### Day 8: July 8 (Saturday)\n",
            "- **Morning:** Last-minute shopping or visit a local café.\n",
            "- **Afternoon:** Check out of your hotel, head to the airport.\n",
            "\n",
            "### Tips:\n",
            "- **Transportation:** Use the subway for efficient travel.\n",
            "- **Reservations:** Make dining and attraction reservations in advance.\n",
            "- **Weather:** July can be hot; stay hydrated and wear sunscreen. \n",
            "\n",
            "Enjoy your trip!\n"
          ]
        }
      ],
      "source": [
        "prompt = f\"\"\"I will visit {city}, {country}, from {arrival} to {departure}.\n",
        "Please create a detailed daily itinerary.\"\"\"\n",
        "\n",
        "print_llm_response(prompt)"
      ]
    },
    {
      "cell_type": "markdown",
      "metadata": {
        "id": "EMyjkxFyMBwL"
      },
      "source": [
        "### Challenge exercise!\n",
        "\n",
        "Complete the code below so that it will **print out the country of every destination** in the `itinerary.csv` file. Ask the chatbot for help if you need it!"
      ]
    },
    {
      "cell_type": "code",
      "execution_count": null,
      "metadata": {
        "height": 199,
        "id": "lTzuH3qrMBwL",
        "outputId": "b020692c-2e44-406a-f7ee-e24ccfdfa1de"
      },
      "outputs": [
        {
          "name": "stdout",
          "output_type": "stream",
          "text": [
            "{'Arrival': 'July-01', 'Departure': 'July-08', 'City': 'New York', 'Country': 'USA'}\n",
            "{'Arrival': 'July-09', 'Departure': 'July-16', 'City': 'Rio de Janeiro', 'Country': 'Brazil'}\n",
            "{'Arrival': 'July-17', 'Departure': 'July-24', 'City': 'Cape Town', 'Country': 'South Africa'}\n",
            "{'Arrival': 'July-25', 'Departure': 'August-01', 'City': 'Istanbul', 'Country': 'Turkey'}\n",
            "{'Arrival': 'August-02', 'Departure': 'August-09', 'City': 'Paris', 'Country': 'France'}\n",
            "{'Arrival': 'August-10', 'Departure': 'August-17', 'City': 'Tokyo', 'Country': 'Japan'}\n",
            "{'Arrival': 'August-18', 'Departure': 'August-25', 'City': 'Sydney', 'Country': 'Australia'}\n",
            "USA\n",
            "Brazil\n",
            "South Africa\n",
            "Turkey\n",
            "France\n",
            "Japan\n",
            "Australia\n"
          ]
        }
      ],
      "source": [
        "f = open(\"itinerary.csv\", \"r\")\n",
        "csv_reader = csv.DictReader(f)\n",
        "itinerary = []\n",
        "for row in csv_reader:\n",
        "    print(row)\n",
        "    itinerary.append(row)\n",
        "f.close()\n",
        "\n",
        "# Complete the next two lines to print the country:\n",
        "for trip_stop in itinerary:\n",
        "    print(trip_stop[\"Country\"])"
      ]
    }
  ],
  "metadata": {
    "kernelspec": {
      "display_name": "Python 3 (ipykernel)",
      "language": "python",
      "name": "python3"
    },
    "language_info": {
      "codemirror_mode": {
        "name": "ipython",
        "version": 3
      },
      "file_extension": ".py",
      "mimetype": "text/x-python",
      "name": "python",
      "nbconvert_exporter": "python",
      "pygments_lexer": "ipython3",
      "version": "3.9.19"
    },
    "colab": {
      "provenance": [],
      "name": "lesson_3.5 .ipynb",
      "include_colab_link": true
    }
  },
  "nbformat": 4,
  "nbformat_minor": 0
}