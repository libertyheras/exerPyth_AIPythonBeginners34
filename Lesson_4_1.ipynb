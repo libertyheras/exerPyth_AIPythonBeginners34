{
  "cells": [
    {
      "cell_type": "markdown",
      "metadata": {
        "id": "view-in-github",
        "colab_type": "text"
      },
      "source": [
        "<a href=\"https://colab.research.google.com/github/libertyheras/exerPyth_AIPythonBeginners34/blob/main/Lesson_4_1.ipynb\" target=\"_parent\"><img src=\"https://colab.research.google.com/assets/colab-badge.svg\" alt=\"Open In Colab\"/></a>"
      ]
    },
    {
      "cell_type": "markdown",
      "metadata": {
        "id": "WMGxBP-yQoCl"
      },
      "source": [
        "# Lesson 1: Using functions from a local file"
      ]
    },
    {
      "cell_type": "markdown",
      "metadata": {
        "id": "I4gsX8vXr5Bs"
      },
      "source": [
        "Hit the play button on the video next to this Jupyter notebook to start the video and follow along as Andrew explains how to work through this lesson!\n",
        "\n",
        "In all of the courses so far, you have used a set of helper functions that were made available to you in the learning environment.\n",
        "\n",
        "In this lesson, you will see how these functions are stored in Python files and loaded into the notebook for you to use with the `import` command."
      ]
    },
    {
      "cell_type": "markdown",
      "metadata": {
        "id": "bKyTklzzr5Bt"
      },
      "source": [
        "## Revisiting the temperature conversion example"
      ]
    },
    {
      "cell_type": "markdown",
      "metadata": {
        "id": "EyoS8AqSr5Bt"
      },
      "source": [
        "Here is the function you saw in the last course for converting temperatures from Fahrenheit to Celsius. Run the next cell to define the function:"
      ]
    },
    {
      "cell_type": "code",
      "execution_count": null,
      "metadata": {
        "height": 63,
        "id": "8Z9ZMhtCr5Bu"
      },
      "outputs": [],
      "source": [
        "def fahrenheit_to_celsius(fahrenheit):\n",
        "    celsius = (fahrenheit - 32) * 5 / 9\n",
        "    print(f\"{fahrenheit}°F is equivalent to {celsius:.2f}°C\")"
      ]
    },
    {
      "cell_type": "markdown",
      "metadata": {
        "id": "xgI_XCDhr5Bv"
      },
      "source": [
        "And run the next cell to use the function!"
      ]
    },
    {
      "cell_type": "code",
      "execution_count": null,
      "metadata": {
        "height": 29,
        "id": "rmC7HPr9r5Bv",
        "outputId": "0273ffd2-75ff-4691-a477-175b1212838c"
      },
      "outputs": [
        {
          "name": "stdout",
          "output_type": "stream",
          "text": [
            "68°F is equivalent to 20.00°C\n"
          ]
        }
      ],
      "source": [
        "fahrenheit_to_celsius(68)"
      ]
    },
    {
      "cell_type": "markdown",
      "metadata": {
        "id": "H-wP6KRzr5Bw"
      },
      "source": [
        "In the cells above, you directly defined the function and then used it.\n",
        "\n",
        "Throughout the previous courses, you used functions that you imported from `helper_functions`.\n",
        "\n",
        "It turns out these were stored in a local file in the same directory as the notebook called `helper_functions.py`.\n",
        "\n",
        "A related function to the `fahrenheit_to_celsius` function above is also included in the `helper_functions.py` file. It's called `celsius_to_fahrenheit` and does the temperature conversion in the other direction."
      ]
    },
    {
      "cell_type": "code",
      "execution_count": null,
      "metadata": {
        "height": 29,
        "id": "B2hXbBKmr5Bw",
        "outputId": "cb144f67-ef6c-4c1d-dbde-9d1df51dc4a9"
      },
      "outputs": [
        {
          "ename": "NameError",
          "evalue": "name 'celsius_to_fahrenheit' is not defined",
          "output_type": "error",
          "traceback": [
            "\u001b[0;31m---------------------------------------------------------------------------\u001b[0m",
            "\u001b[0;31mNameError\u001b[0m                                 Traceback (most recent call last)",
            "Cell \u001b[0;32mIn[3], line 1\u001b[0m\n\u001b[0;32m----> 1\u001b[0m \u001b[43mcelsius_to_fahrenheit\u001b[49m(\u001b[38;5;241m20\u001b[39m)\n",
            "\u001b[0;31mNameError\u001b[0m: name 'celsius_to_fahrenheit' is not defined"
          ]
        }
      ],
      "source": [
        "celsius_to_fahrenheit(20)"
      ]
    },
    {
      "cell_type": "markdown",
      "metadata": {
        "id": "UbXpygUSr5Bx"
      },
      "source": [
        "This code doesn't work because you haven't made the function available to Python yet. Let's ask the chatbot how to do that:"
      ]
    },
    {
      "cell_type": "markdown",
      "metadata": {
        "id": "z3KzzS1rr5Bx"
      },
      "source": [
        "<p style=\"background-color:#F5C780; padding:15px\"> 🤖 <b>Use the Chatbot</b>: I have the celsius_to_fahrenheit function in the file helper_functions.py. How do I load it into my Jupyter notebook?</p>"
      ]
    },
    {
      "cell_type": "markdown",
      "metadata": {
        "id": "rtUHiXn6r5By"
      },
      "source": [
        "Import the `celsius_to_fahrenheit` function from the `helper_functions.py` file:"
      ]
    },
    {
      "cell_type": "code",
      "execution_count": null,
      "metadata": {
        "height": 29,
        "id": "uIqb4pJpr5By"
      },
      "outputs": [],
      "source": [
        "from helper_functions import celsius_to_fahrenheit"
      ]
    },
    {
      "cell_type": "markdown",
      "metadata": {
        "id": "JqLpgRSDr5By"
      },
      "source": [
        "You can now use the function!"
      ]
    },
    {
      "cell_type": "code",
      "execution_count": null,
      "metadata": {
        "height": 29,
        "id": "N67o6-G7r5By",
        "outputId": "e7f91be8-af8b-4da5-88e4-36f4c2a5c2c9"
      },
      "outputs": [
        {
          "name": "stdout",
          "output_type": "stream",
          "text": [
            "20°C is equivalent to 68.00°F\n"
          ]
        }
      ],
      "source": [
        "celsius_to_fahrenheit(20)"
      ]
    },
    {
      "cell_type": "markdown",
      "metadata": {
        "id": "5zz-HOXsr5By"
      },
      "source": [
        "## Different ways to import functions from a file"
      ]
    },
    {
      "cell_type": "markdown",
      "metadata": {
        "id": "bJl5fy0Or5Bz"
      },
      "source": [
        "Python has a few different ways to import functions from a file. Run the code below to import all functions in a file:"
      ]
    },
    {
      "cell_type": "code",
      "execution_count": null,
      "metadata": {
        "height": 29,
        "id": "isy3D0UPr5Bz"
      },
      "outputs": [],
      "source": [
        "import helper_functions"
      ]
    },
    {
      "cell_type": "markdown",
      "metadata": {
        "id": "WfeVzocer5Bz"
      },
      "source": [
        "To use this, you must five the name of the file *and* the name of the function, separated by a `.` character:"
      ]
    },
    {
      "cell_type": "code",
      "execution_count": null,
      "metadata": {
        "height": 46,
        "id": "nNAfWPFfr5Bz",
        "outputId": "896407c0-7146-4a40-f27a-6e31bc6344af"
      },
      "outputs": [
        {
          "name": "stdout",
          "output_type": "stream",
          "text": [
            "The capital of France is Paris.\n"
          ]
        }
      ],
      "source": [
        "helper_functions.print_llm_response(\"What is the capital of France?\")"
      ]
    },
    {
      "cell_type": "markdown",
      "metadata": {
        "id": "gXGe8jWar5Bz"
      },
      "source": [
        "Note that you must include the `.` for this to work. For example, if you want to use `get_llm_response` - which is also defined in `helper_functions.py` - and you try the following code, it won't work:"
      ]
    },
    {
      "cell_type": "markdown",
      "metadata": {
        "id": "9d7OkDvQr5Bz"
      },
      "source": [
        "* 🚨 Alert: running the next cell will return an error!"
      ]
    },
    {
      "cell_type": "code",
      "execution_count": null,
      "metadata": {
        "height": 29,
        "id": "BTl_Ss64r5Bz",
        "outputId": "f2ee1861-250d-475f-8c28-62823c8c3ae6"
      },
      "outputs": [
        {
          "ename": "NameError",
          "evalue": "name 'get_llm_response' is not defined",
          "output_type": "error",
          "traceback": [
            "\u001b[0;31m---------------------------------------------------------------------------\u001b[0m",
            "\u001b[0;31mNameError\u001b[0m                                 Traceback (most recent call last)",
            "Cell \u001b[0;32mIn[8], line 1\u001b[0m\n\u001b[0;32m----> 1\u001b[0m response \u001b[38;5;241m=\u001b[39m \u001b[43mget_llm_response\u001b[49m(\u001b[38;5;124m\"\u001b[39m\u001b[38;5;124mWhat is the capital of France?\u001b[39m\u001b[38;5;124m\"\u001b[39m)\n",
            "\u001b[0;31mNameError\u001b[0m: name 'get_llm_response' is not defined"
          ]
        }
      ],
      "source": [
        "response = get_llm_response(\"What is the capital of France?\")"
      ]
    },
    {
      "cell_type": "markdown",
      "metadata": {
        "id": "0MTsUv-Fr5B0"
      },
      "source": [
        "To fix this, you must include the file name and the `.` character as with `print_llm_above`:"
      ]
    },
    {
      "cell_type": "code",
      "execution_count": null,
      "metadata": {
        "height": 63,
        "id": "4N2Po2MHr5B0",
        "outputId": "7a7e2bad-666e-408f-aa34-5a7d4dc852f0"
      },
      "outputs": [
        {
          "name": "stdout",
          "output_type": "stream",
          "text": [
            "The capital of France is Paris.\n"
          ]
        }
      ],
      "source": [
        "response = helper_functions.get_llm_response(\"What is the capital of France?\")\n",
        "print(response)"
      ]
    },
    {
      "cell_type": "markdown",
      "metadata": {
        "id": "OXe3mfV3r5B0"
      },
      "source": [
        "There is another way to import all of the functions in a file that avoids the `.` notation above. You can use a `*` character and the following command:"
      ]
    },
    {
      "cell_type": "code",
      "execution_count": null,
      "metadata": {
        "height": 29,
        "id": "w3gDkrqPr5B0"
      },
      "outputs": [],
      "source": [
        "from helper_functions import *"
      ]
    },
    {
      "cell_type": "markdown",
      "metadata": {
        "id": "Lk70lSgIr5B0"
      },
      "source": [
        "This imports all the functions in a file and makes them available without `.` notation."
      ]
    },
    {
      "cell_type": "code",
      "execution_count": null,
      "metadata": {
        "height": 63,
        "id": "OispmBycr5B0"
      },
      "outputs": [],
      "source": [
        "# Try again\n",
        "response = get_llm_response(\"Give me three tips to become a good learner.\")"
      ]
    },
    {
      "cell_type": "code",
      "execution_count": null,
      "metadata": {
        "height": 46,
        "id": "2UxR91f1r5B0",
        "outputId": "10150530-45e5-44cc-e3eb-ef4927a503b0"
      },
      "outputs": [
        {
          "name": "stdout",
          "output_type": "stream",
          "text": [
            "1. **Set Clear Goals**: Define specific, achievable learning objectives to stay focused and motivated.\n",
            "\n",
            "2. **Practice Active Learning**: Engage with the material through summarization, questioning, and teaching others to reinforce understanding.\n",
            "\n",
            "3. **Reflect and Adapt**: Regularly assess your progress and adjust your strategies based on what works best for you.\n"
          ]
        }
      ],
      "source": [
        "# It worked!\n",
        "print(response)"
      ]
    },
    {
      "cell_type": "markdown",
      "metadata": {
        "id": "lRSeiH-gr5B1"
      },
      "source": [
        "**Note:** Using the `from file import *` notation can cause unexpected results in some cases.\n",
        "\n",
        "Instead, it is recommended to only load what you need (e.g. `from helper_functions import print_llm_response`), or to import that whole file and use the `.` notation."
      ]
    }
  ],
  "metadata": {
    "colab": {
      "gpuType": "T4",
      "provenance": [],
      "include_colab_link": true
    },
    "kernelspec": {
      "display_name": "Python 3 (ipykernel)",
      "language": "python",
      "name": "python3"
    },
    "language_info": {
      "codemirror_mode": {
        "name": "ipython",
        "version": 3
      },
      "file_extension": ".py",
      "mimetype": "text/x-python",
      "name": "python",
      "nbconvert_exporter": "python",
      "pygments_lexer": "ipython3",
      "version": "3.9.19"
    }
  },
  "nbformat": 4,
  "nbformat_minor": 0
}