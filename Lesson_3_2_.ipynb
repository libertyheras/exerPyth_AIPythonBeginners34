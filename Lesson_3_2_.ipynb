{
  "cells": [
    {
      "cell_type": "markdown",
      "metadata": {
        "id": "view-in-github",
        "colab_type": "text"
      },
      "source": [
        "<a href=\"https://colab.research.google.com/github/libertyheras/exerPyth_AIPythonBeginners34/blob/main/Lesson_3_2_.ipynb\" target=\"_parent\"><img src=\"https://colab.research.google.com/assets/colab-badge.svg\" alt=\"Open In Colab\"/></a>"
      ]
    },
    {
      "cell_type": "markdown",
      "metadata": {
        "id": "FbWoGOis4KoG"
      },
      "source": [
        "# Lesson 2: Loading and using your own data"
      ]
    },
    {
      "cell_type": "markdown",
      "metadata": {
        "id": "Jdmk25OGLBiL"
      },
      "source": [
        "In this notebook, you will get a chance to work with one of your own text files (.txt).\n",
        "If you don't have any, you can create one by copying and pasting text into Notepad, MS Word, or Google Docs and saving it as a .txt file."
      ]
    },
    {
      "cell_type": "markdown",
      "metadata": {
        "id": "XHiuIR_6LBiL"
      },
      "source": [
        "## Reading files in the working directory\n",
        "\n",
        "To access data you have stored in files and folders on your computer, you need to tell Python where to find them. By default, Python will always look first for files in the folder your Jupyter notebook is in."
      ]
    },
    {
      "cell_type": "markdown",
      "metadata": {
        "id": "Ew1A9DEXLBiL"
      },
      "source": [
        "<p style=\"background-color:#F5C780; padding:15px\"> 🤖 <b>Use the Chatbot</b>:\n",
        "    <br><br>\n",
        "    What is the folder called where Python looks first for files, and which folder is that by default?\n",
        "</p>"
      ]
    },
    {
      "cell_type": "markdown",
      "metadata": {
        "id": "LTkRz5iiLBiM"
      },
      "source": [
        "* Load some functions to use in this notebook (note there are some new ones here, and they will be explained as you use them):"
      ]
    },
    {
      "cell_type": "code",
      "execution_count": null,
      "metadata": {
        "height": 46,
        "id": "b-T1pUMDLBiM"
      },
      "outputs": [],
      "source": [
        "from helper_functions import upload_txt_file, list_files_in_directory, print_llm_response"
      ]
    },
    {
      "cell_type": "markdown",
      "metadata": {
        "id": "vrshPiJvLBiN"
      },
      "source": [
        "* Use the 'list_files_in_directory' function to list out the files in the current working directory:"
      ]
    },
    {
      "cell_type": "code",
      "execution_count": null,
      "metadata": {
        "height": 29,
        "id": "VfwA_NT0LBiN",
        "outputId": "87a727f2-d755-4454-ea4d-5a84a0ea13c9"
      },
      "outputs": [
        {
          "name": "stdout",
          "output_type": "stream",
          "text": [
            "Lesson_2.ipynb\n",
            "email.txt\n",
            "helper_functions.py\n",
            "recipe.txt\n"
          ]
        }
      ],
      "source": [
        "list_files_in_directory()"
      ]
    },
    {
      "cell_type": "markdown",
      "metadata": {
        "id": "J31PfzT7LBiO"
      },
      "source": [
        "The function lists all of the files that are in the same folder as the Jupyter notebook for this lesson.\n",
        "\n",
        "Jupyter notebooks have a **.ipynb** extension and Python files have a **.py** extension.\n",
        "\n",
        "The Python file here is the ```helper_function.py``` file, which it is loaded with some pre-defined functions. You will learn more about this file and how it works in Course 4.\n",
        "\n",
        "There are also two plain text files, `email.txt` and `recipe.txt`. Let's take a look at those files:"
      ]
    },
    {
      "cell_type": "code",
      "execution_count": null,
      "metadata": {
        "height": 114,
        "id": "GZkbzV9fLBiO",
        "outputId": "f0d2acc2-4dcc-4d9d-e4c7-073029041a4b"
      },
      "outputs": [
        {
          "name": "stdout",
          "output_type": "stream",
          "text": [
            "Subject: My Incredible Journey Around the World!\n",
            "\n",
            "Hi Andrew,\n",
            "\n",
            "I hope you are doing greatl! I just returned from an incredible trip around the world. I started in New York, enjoying a Broadway show and the skyline. In Rio de Janeiro, I soaked up the sun on Copacabana Beach and hiked to Christ the Redeemer. Cape Town amazed me with its natural beauty and safari adventures. Paris was magical with its charming streets and delicious food. Istanbul's Hagia Sophia and Bosphorus cruise were unforgettable. Tokyo dazzled with its neon lights and delicious sushi. Finally, Sydney's Opera House and Bondi Beach were the perfect end to my journey. Can't wait to share more stories and photos when we catch up!\n",
            "\n",
            "Best,\n",
            "\n",
            "Daniel\n",
            "\n"
          ]
        }
      ],
      "source": [
        "# Open the email.txt file and print its contents\n",
        "f = open(\"email.txt\", \"r\")\n",
        "email = f.read()\n",
        "f.close()\n",
        "\n",
        "print(email)"
      ]
    },
    {
      "cell_type": "code",
      "execution_count": null,
      "metadata": {
        "height": 114,
        "id": "dypxCpz8LBiO",
        "outputId": "ad215be6-aa3e-4566-8110-badf13236896"
      },
      "outputs": [
        {
          "name": "stdout",
          "output_type": "stream",
          "text": [
            "Kimchi Recipe\n",
            "\n",
            "To make kimchi, start by chopping one Napa cabbage into bite-sized pieces and salting it with 1/4 cup of sea salt. Let it sit for 1-2 hours. Rinse the cabbage under cold water three times and drain well. In a bowl, mix 1 tablespoon of sugar, 1 tablespoon of grated ginger, 4 minced garlic cloves, 1/4 cup of gochugaru (Korean red pepper flakes), and 3 tablespoons of fish sauce (or soy sauce). Add 3 chopped green onions, 1 julienned carrot, and 1 julienned daikon radish to the cabbage, then combine with the spice paste. Pack the mixture tightly into a jar, pressing down to remove air bubbles, and leave some space at the top. Let it sit at room temperature for 1-5 days, pressing down daily to keep the vegetables submerged. Once fermented to your liking, store the kimchi in the refrigerator. Enjoy!\n",
            "\n"
          ]
        }
      ],
      "source": [
        "# Open the recipe.txt file and print its contents\n",
        "f = open(\"recipe.txt\", \"r\")\n",
        "recipe = f.read()\n",
        "f.close()\n",
        "\n",
        "print(recipe)"
      ]
    },
    {
      "cell_type": "markdown",
      "metadata": {
        "id": "ivdfgDwkLBiO"
      },
      "source": [
        "## Uploading and reading your own text files"
      ]
    },
    {
      "cell_type": "markdown",
      "metadata": {
        "id": "vBuDbb7OLBiO"
      },
      "source": [
        "You can upload a text file to this folder using the button that appears after running the next cell.\n",
        "\n",
        "Here are some notes about the file you can upload...\n",
        "* It can be any plain text file with a .txt extension.\n",
        "* Make sure the file size doesn't exceed 3 KB (about 3000 characters)\n",
        "* You can create a plain text file by copying and pasting text into a text editor on your computer like Notepad (windows) or TextEdit (mac).\n",
        "* You can also use a Google Doc and download it as a plain text '.txt' file.\n",
        "* **Don't upload anything confidential!**\n",
        "\n",
        "Run the next cell to open the upload file button:\n"
      ]
    },
    {
      "cell_type": "code",
      "execution_count": null,
      "metadata": {
        "height": 29,
        "id": "CYO3RFIDLBiO",
        "outputId": "97c828c5-a2a2-4c8a-8d1e-31c85cb01839",
        "colab": {
          "referenced_widgets": [
            "5a02c5065e0c4e83b62ef0045cf6c76a",
            "5af25c1779db47c58211699061e36ccd"
          ]
        }
      },
      "outputs": [
        {
          "data": {
            "application/vnd.jupyter.widget-view+json": {
              "model_id": "5a02c5065e0c4e83b62ef0045cf6c76a",
              "version_major": 2,
              "version_minor": 0
            },
            "text/plain": [
              "FileUpload(value=(), accept='.txt', description='Upload')"
            ]
          },
          "metadata": {},
          "output_type": "display_data"
        },
        {
          "data": {
            "application/vnd.jupyter.widget-view+json": {
              "model_id": "5af25c1779db47c58211699061e36ccd",
              "version_major": 2,
              "version_minor": 0
            },
            "text/plain": [
              "Output()"
            ]
          },
          "metadata": {},
          "output_type": "display_data"
        }
      ],
      "source": [
        "upload_txt_file()"
      ]
    },
    {
      "cell_type": "markdown",
      "metadata": {
        "id": "VSeCXIEnLBiP"
      },
      "source": [
        "* See that your file is now in the same folder with the other files you listed above:"
      ]
    },
    {
      "cell_type": "code",
      "execution_count": null,
      "metadata": {
        "height": 46,
        "id": "KzOgAfPrLBiP",
        "outputId": "e1005b4c-b451-4234-ee2b-1a11e81edd4c"
      },
      "outputs": [
        {
          "name": "stdout",
          "output_type": "stream",
          "text": [
            "Lesson_2.ipynb\n",
            "email.txt\n",
            "helper_functions.py\n",
            "recipe.txt\n",
            "TOUpload.txt\n"
          ]
        }
      ],
      "source": [
        "# Print the list of the files inside this folder\n",
        "list_files_in_directory()"
      ]
    },
    {
      "cell_type": "markdown",
      "metadata": {
        "id": "HCuUPBxkLBiP"
      },
      "source": [
        "* Open and print your own file content."
      ]
    },
    {
      "cell_type": "code",
      "execution_count": null,
      "metadata": {
        "height": 114,
        "id": "qasZ9yvRLBiP"
      },
      "outputs": [],
      "source": [
        "# Change the file name on the next line to the one you uploaded.\n",
        "# Make sure you keep the double quotation marks around the file name!\n",
        "f = open(\"T.txt\", \"r\")\n",
        "your_file_content = f.read()\n",
        "f.close()"
      ]
    },
    {
      "cell_type": "code",
      "execution_count": null,
      "metadata": {
        "height": 29,
        "id": "oTieY6ysLBiP",
        "outputId": "72a085fe-1b4a-401e-a695-e1e58d7043de"
      },
      "outputs": [
        {
          "name": "stdout",
          "output_type": "stream",
          "text": [
            "Once upon a time in a small village, there was a boy named Kato who loved watching the stars. Every night, he would sit on the hilltop, gazing up at the sparkling sky, wondering what mysteries it held.\n",
            "\n",
            "One evening, while sitting under his favorite oak tree, Kato noticed a bright star flicker and then vanish. In its place, a soft glow appeared in the woods. Curious, Kato followed the light into the forest, where he found a small, glowing orb hovering above the ground. It shimmered like the stars he loved so much, casting a soft glow around the trees.\n",
            "\n",
            "As Kato reached out to touch it, the orb whispered, \"I am a lost star, fallen from the sky. Will you help me return home?\"\n",
            "\n",
            "Kato, determined to help, climbed the tallest tree in the forest with the orb in his hand. As he reached the highest branch, he stretched out his arm and released the orb into the sky. The star ascended higher and higher until it rejoined the heavens, shining even brighter than before.\n",
            "\n",
            "From that night on, whenever Kato looked up at the stars, he knew that one of them was his friend, and the night sky never felt lonely again. He continued watching the stars, but now with a heart full of wonder and a secret smile, knowing he had once touched the sky.\n"
          ]
        }
      ],
      "source": [
        "print(your_file_content)"
      ]
    },
    {
      "cell_type": "markdown",
      "metadata": {
        "id": "eC0-C5h9LBiP"
      },
      "source": [
        "## Use AI to summarize your file contents"
      ]
    },
    {
      "cell_type": "markdown",
      "metadata": {
        "id": "OW2CA8bRLBiP"
      },
      "source": [
        "* Ask an LLM to create a summary of your file content"
      ]
    },
    {
      "cell_type": "code",
      "execution_count": null,
      "metadata": {
        "height": 97,
        "id": "QolCvXlxLBiP"
      },
      "outputs": [],
      "source": [
        "prompt = f\"\"\"Summarize the content from the following text\n",
        "in at most two sentences.\n",
        "\n",
        "Text:\n",
        "{your_file_content}\"\"\""
      ]
    },
    {
      "cell_type": "markdown",
      "metadata": {
        "id": "fuduF8H8LBiQ"
      },
      "source": [
        "* Print out the prompt - notice that it now contains the content of your file:"
      ]
    },
    {
      "cell_type": "code",
      "execution_count": null,
      "metadata": {
        "height": 29,
        "id": "53CN1hHVLBiQ",
        "outputId": "e0803947-5a74-4998-f8ef-f82222acb005"
      },
      "outputs": [
        {
          "name": "stdout",
          "output_type": "stream",
          "text": [
            "Summarize the content from the following text\n",
            "in at most two sentences. \n",
            "\n",
            "Text:\n",
            "Once upon a time in a small village, there was a boy named Kato who loved watching the stars. Every night, he would sit on the hilltop, gazing up at the sparkling sky, wondering what mysteries it held.\n",
            "\n",
            "One evening, while sitting under his favorite oak tree, Kato noticed a bright star flicker and then vanish. In its place, a soft glow appeared in the woods. Curious, Kato followed the light into the forest, where he found a small, glowing orb hovering above the ground. It shimmered like the stars he loved so much, casting a soft glow around the trees.\n",
            "\n",
            "As Kato reached out to touch it, the orb whispered, \"I am a lost star, fallen from the sky. Will you help me return home?\"\n",
            "\n",
            "Kato, determined to help, climbed the tallest tree in the forest with the orb in his hand. As he reached the highest branch, he stretched out his arm and released the orb into the sky. The star ascended higher and higher until it rejoined the heavens, shining even brighter than before.\n",
            "\n",
            "From that night on, whenever Kato looked up at the stars, he knew that one of them was his friend, and the night sky never felt lonely again. He continued watching the stars, but now with a heart full of wonder and a secret smile, knowing he had once touched the sky.\n"
          ]
        }
      ],
      "source": [
        "print(prompt)"
      ]
    },
    {
      "cell_type": "markdown",
      "metadata": {
        "id": "ceMGgoQHLBiQ"
      },
      "source": [
        "* Print out the response from the LLM"
      ]
    },
    {
      "cell_type": "code",
      "execution_count": null,
      "metadata": {
        "height": 29,
        "id": "DTiGhnWoLBiQ",
        "outputId": "d81dbcd9-bcf6-4034-ffda-8a778eb187ea"
      },
      "outputs": [
        {
          "name": "stdout",
          "output_type": "stream",
          "text": [
            "Kato, a boy who loved stargazing, discovers a lost star in the woods and helps it return to the sky by releasing it from a tall tree. From then on, he feels a special connection to the stars, knowing one of them is his friend.\n"
          ]
        }
      ],
      "source": [
        "print_llm_response(prompt)"
      ]
    },
    {
      "cell_type": "markdown",
      "metadata": {
        "id": "a-OvbldzLBiQ"
      },
      "source": [
        "## Extra Practice\n",
        "\n",
        "Try the exercises below to practice some of the techniques you learned in this lesson.\n",
        "\n",
        "### Exercise 1\n",
        "\n",
        "Modify the prompt below to ask the LLM a different question about your text data."
      ]
    },
    {
      "cell_type": "code",
      "execution_count": null,
      "metadata": {
        "height": 199,
        "id": "KBziizYiLBiQ",
        "outputId": "ce76c3aa-ed5f-49a5-eec4-23d90eb94795"
      },
      "outputs": [
        {
          "name": "stdout",
          "output_type": "stream",
          "text": [
            "- Kato, a boy in a small village, loves stargazing.\n",
            "- He sees a bright star flicker and vanish, leading him to a glowing orb in the woods.\n",
            "- The orb reveals it is a lost star and asks for Kato's help to return home.\n",
            "- Kato climbs a tall tree and releases the orb into the sky, where it rejoins the stars.\n",
            "- Kato feels a connection to the stars, knowing one is his friend, and continues to stargaze with joy.\n"
          ]
        }
      ],
      "source": [
        "# Modify the prompt below to ask the LLM a different question about\n",
        "# your data\n",
        "prompt = f\"\"\"\n",
        "Summarize the main points of the text provided below.\n",
        "\n",
        "Text:\n",
        "{your_file_content}\n",
        "\"\"\"\n",
        "\n",
        "print_llm_response(prompt)"
      ]
    },
    {
      "cell_type": "markdown",
      "metadata": {
        "id": "ELMobZNGLBiQ"
      },
      "source": [
        "### Exercise 2\n",
        "\n",
        "Modify the prompt to use the data that you loaded in from `recipe.txt`.\n",
        "\n",
        "**Hint:** look back throughout the notebook for the variable you stored the recipe data in."
      ]
    },
    {
      "cell_type": "code",
      "execution_count": null,
      "metadata": {
        "height": 216,
        "id": "QMMBOof0LBiQ",
        "outputId": "ad42398e-b255-4bac-e106-a610b2e99ff0"
      },
      "outputs": [
        {
          "name": "stdout",
          "output_type": "stream",
          "text": [
            "1. Chopping\n",
            "2. Salting\n",
            "3. Rinsing\n",
            "4. Mixing\n",
            "5. Julienning\n",
            "6. Packing\n",
            "7. Fermenting\n",
            "8. Storing\n"
          ]
        }
      ],
      "source": [
        "# Modify the prompt to use the data that you loaded in from recipe.txt\n",
        "# Hint: look back throughout the notebook for the variable you stored\n",
        "# the recipe data in.\n",
        "prompt = f\"\"\"\n",
        "Identify all of the cooking techniques used in the following recipe:\n",
        "\n",
        "Recipe:\n",
        "{recipe}\n",
        "\"\"\"\n",
        "\n",
        "print_llm_response(prompt)"
      ]
    }
  ],
  "metadata": {
    "colab": {
      "provenance": [],
      "include_colab_link": true
    },
    "kernelspec": {
      "display_name": "Python 3 (ipykernel)",
      "language": "python",
      "name": "python3"
    },
    "language_info": {
      "codemirror_mode": {
        "name": "ipython",
        "version": 3
      },
      "file_extension": ".py",
      "mimetype": "text/x-python",
      "name": "python",
      "nbconvert_exporter": "python",
      "pygments_lexer": "ipython3",
      "version": "3.9.19"
    },
    "widgets": {
      "application/vnd.jupyter.widget-state+json": {}
    }
  },
  "nbformat": 4,
  "nbformat_minor": 0
}