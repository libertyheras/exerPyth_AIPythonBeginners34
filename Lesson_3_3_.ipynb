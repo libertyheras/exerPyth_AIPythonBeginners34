{
  "cells": [
    {
      "cell_type": "markdown",
      "metadata": {
        "id": "view-in-github",
        "colab_type": "text"
      },
      "source": [
        "<a href=\"https://colab.research.google.com/github/libertyheras/exerPyth_AIPythonBeginners34/blob/main/Lesson_3_3_.ipynb\" target=\"_parent\"><img src=\"https://colab.research.google.com/assets/colab-badge.svg\" alt=\"Open In Colab\"/></a>"
      ]
    },
    {
      "cell_type": "markdown",
      "metadata": {
        "id": "ZD97BrwmLS6f"
      },
      "source": [
        "# Lesson 3: Reading journals from food critics\n",
        "\n",
        "In this lesson, you'll use AI to decide whether the contents of a file are about food and restaurants.\n",
        "\n",
        "Text data like emails, journal entries, and social media posts often have no predefined structure. Additionally, each person writes in their own style: some use bullet points, while others prefer long paragraphs. For this reason, text data is known as **unstructured data**."
      ]
    },
    {
      "cell_type": "markdown",
      "metadata": {
        "id": "PWce_jWzLS6h"
      },
      "source": [
        "Let's start by loading some helper functions to use in the notebook:"
      ]
    },
    {
      "cell_type": "code",
      "execution_count": null,
      "metadata": {
        "height": 29,
        "id": "5hUGWHZ8LS6i"
      },
      "outputs": [],
      "source": [
        "from helper_functions import get_llm_response, print_llm_response"
      ]
    },
    {
      "cell_type": "markdown",
      "metadata": {
        "id": "T1olMXaSLS6i"
      },
      "source": [
        "## Working with text data"
      ]
    },
    {
      "cell_type": "markdown",
      "metadata": {
        "id": "OYRVVCzfLS6j"
      },
      "source": [
        "You'll take look at journal entries in the working directory. The journals are stored as plain text files with extension `.txt'.\n",
        "\n",
        "Start by opening and reading the Cape Town journal:"
      ]
    },
    {
      "cell_type": "code",
      "execution_count": null,
      "metadata": {
        "height": 63,
        "id": "j7wtIfXZLS6j"
      },
      "outputs": [],
      "source": [
        "f = open(\"cape_town.txt\", \"r\")\n",
        "journal_cape_town = f.read()\n",
        "f.close()"
      ]
    },
    {
      "cell_type": "markdown",
      "metadata": {
        "id": "ZuNZCxUfLS6j"
      },
      "source": [
        "Print the contents of the journal:"
      ]
    },
    {
      "cell_type": "code",
      "execution_count": null,
      "metadata": {
        "height": 29,
        "id": "EPnuSAnNLS6k",
        "outputId": "fb39cbf8-16a1-42f3-bd90-68c9699bab2b"
      },
      "outputs": [
        {
          "name": "stdout",
          "output_type": "stream",
          "text": [
            "My first destination was The Test Kitchen, a restaurant that has earned its place among the world's best. Situated in the trendy Woodstock area, this dining spot is celebrated for its innovative dishes. I was particularly taken by their signature dish, the \"Pickled Fish Tacos.\" The tangy, flavorful fish wrapped in a soft taco, paired with a zesty salsa, was a delightful start to my culinary adventure. The industrial-chic ambiance added a modern edge to the dining experience.\n",
            "\n",
            "Next, I made my way to La Colombe, perched on the slopes of Constantia. Known for its refined and artistic approach to cuisine, La Colombe's \"Tuna La Colombe\" is a must-try. This dish features perfectly seared tuna, complemented by a delicate ponzu dressing and bursts of citrus. The presentation was as exquisite as the flavors, making it a memorable highlight of the day.\n",
            "\n",
            "At the bustling V&A Waterfront, I visited Harbour House for some of the freshest seafood in town. The \"Grilled Kingklip\" was a revelation. The succulent, flaky fish, grilled to perfection and served with a side of roasted vegetables, highlighted the ocean's bounty. The stunning views of the harbor added to the meal's appeal.\n",
            "\n",
            "Finally, my journey concluded at The Pot Luck Club, another gem in Woodstock. This trendy spot is known for its small plates, perfect for sharing. The standout dish was the \"Beef Tataki.\" Thinly sliced, seared beef with a tangy soy dressing and a hint of wasabi provided a burst of umami and heat. The eclectic, artistic vibe of the restaurant made for a fitting end to my culinary tour.\n",
            "\n"
          ]
        }
      ],
      "source": [
        "print(journal_cape_town)"
      ]
    },
    {
      "cell_type": "markdown",
      "metadata": {
        "id": "Gu0s2gNKLS6l"
      },
      "source": [
        "As you can see, the file is about restaurants and food.\n",
        "\n",
        "Next, open the Tokyo journal entry file and read its contents:"
      ]
    },
    {
      "cell_type": "code",
      "execution_count": null,
      "metadata": {
        "height": 63,
        "id": "7np_Wp2GLS6l"
      },
      "outputs": [],
      "source": [
        "f = open(\"tokyo.txt\", \"r\")\n",
        "journal_tokyo = f.read()\n",
        "f.close()"
      ]
    },
    {
      "cell_type": "markdown",
      "metadata": {
        "id": "98fgHHQALS6l"
      },
      "source": [
        "Print the contents of the journal:"
      ]
    },
    {
      "cell_type": "code",
      "execution_count": null,
      "metadata": {
        "height": 29,
        "id": "xBCGU2PBLS6l",
        "outputId": "c6c1ddf3-e292-4862-9b45-293fc8e49938"
      },
      "outputs": [
        {
          "name": "stdout",
          "output_type": "stream",
          "text": [
            "Tokyo's culinary landscape is nothing short of extraordinary. Each spot offers a unique taste of the city's diverse food culture. Here's a quick guide to some must-try places and dishes.\n",
            "\n",
            "    Sukiyabashi Jiro\n",
            "        Location: Ginza\n",
            "        Dish: Omakase sushi\n",
            "        Highlight: Impeccably crafted sushi made by the legendary Jiro Ono. Each piece is a masterclass in balance and flavor.\n",
            "\n",
            "    Ichiran Ramen\n",
            "        Location: Shibuya\n",
            "        Dish: Tonkotsu ramen\n",
            "        Highlight: A personal ramen booth for focused, uninterrupted enjoyment. Rich, creamy broth with perfectly cooked noodles.\n",
            "\n",
            "    Tsukiji Outer Market\n",
            "        Location: Tsukiji\n",
            "        Dish: Fresh sashimi and street food\n",
            "        Highlight: Vibrant market atmosphere. Indulge in ultra-fresh sashimi, grilled seafood, and other Japanese street food delights.\n",
            "\n",
            "    Narisawa\n",
            "        Location: Minato\n",
            "        Dish: Innovative tasting menu\n",
            "        Highlight: A fusion of French and Japanese techniques. Creative dishes with an emphasis on sustainability and local ingredients.\n",
            "\n",
            "    Ginza Kojyu\n",
            "        Location: Ginza\n",
            "        Dish: Kaiseki (traditional multi-course meal)\n",
            "        Highlight: Exquisite presentation and meticulous preparation. A journey through seasonal Japanese flavors.\n",
            "\n",
            "    Akasaka Kikunoi\n",
            "        Location: Akasaka\n",
            "        Dish: Kaiseki\n",
            "        Highlight: Elegant and serene setting. Seasonal ingredients transformed into artful, delicious courses.\n",
            "\n",
            "\n"
          ]
        }
      ],
      "source": [
        "print(journal_tokyo)"
      ]
    },
    {
      "cell_type": "markdown",
      "metadata": {
        "id": "aAT5N0tvLS6m"
      },
      "source": [
        "This entry is also about restaurants and food - but notice how different the format of the journal is from the Cape Town example!"
      ]
    },
    {
      "cell_type": "markdown",
      "metadata": {
        "id": "ZawKHELpLS6m"
      },
      "source": [
        "## Determining if text files are relevant using LLMs"
      ]
    },
    {
      "cell_type": "markdown",
      "metadata": {
        "id": "KJ_HvCiXLS6m"
      },
      "source": [
        "In this section, you'll write a prompt that instructs an LLM to determine whether a file content is about food and restaurants or some other topic.\n",
        "\n",
        "Define the prompt and include the Tokyo journal entry as the input data to check:"
      ]
    },
    {
      "cell_type": "code",
      "execution_count": null,
      "metadata": {
        "height": 97,
        "id": "j9NH_pZeLS6m"
      },
      "outputs": [],
      "source": [
        "prompt = f\"\"\"Respond with \"Relevant\" or \"Not relevant\":\n",
        "the journal describes restaurants and their specialties.\n",
        "\n",
        "Journal:\n",
        "{journal_tokyo}\"\"\""
      ]
    },
    {
      "cell_type": "markdown",
      "metadata": {
        "id": "XCcawRVALS6m"
      },
      "source": [
        "Print the LLM response to see if the file is relevant for our purpose or not:"
      ]
    },
    {
      "cell_type": "code",
      "execution_count": null,
      "metadata": {
        "height": 29,
        "id": "3X14s6rVLS6m",
        "outputId": "24f359a9-d30a-4d52-be4c-7d29572d7c1b"
      },
      "outputs": [
        {
          "name": "stdout",
          "output_type": "stream",
          "text": [
            "Relevant\n"
          ]
        }
      ],
      "source": [
        "print_llm_response(prompt)"
      ]
    },
    {
      "cell_type": "markdown",
      "metadata": {
        "id": "KB2CXo_ALS6n"
      },
      "source": [
        "## Checking all files using a `for` loop"
      ]
    },
    {
      "cell_type": "markdown",
      "metadata": {
        "id": "udl8xyrGLS6n"
      },
      "source": [
        "Using Python and an LLM together allows you to quickly iterate over multiple files and check the relevance of the content for your tasks.\n",
        "\n",
        "Start by creating a list of all the files you want to check:"
      ]
    },
    {
      "cell_type": "code",
      "execution_count": null,
      "metadata": {
        "height": 63,
        "id": "UQgUSI0VLS6n"
      },
      "outputs": [],
      "source": [
        "# List of the journal files\n",
        "files = [\"cape_town.txt\", \"madrid.txt\", \"rio_de_janeiro.txt\", \"sydney.txt\", \"tokyo.txt\"]"
      ]
    },
    {
      "cell_type": "markdown",
      "metadata": {
        "id": "GBfORyf7LS6n"
      },
      "source": [
        "Next, use a `for` loop to open each file and have an LLM check if the content from that file is relevant to food and restaurants.\n",
        "* *If you need a refresher on `for` loops, please revisit Course 2!*"
      ]
    },
    {
      "cell_type": "code",
      "execution_count": null,
      "metadata": {
        "height": 267,
        "id": "zWAhpI9ZLS6n",
        "outputId": "04f30bdd-f9b8-45e9-f004-edd6139a8942"
      },
      "outputs": [
        {
          "name": "stdout",
          "output_type": "stream",
          "text": [
            "cape_town.txt -> Relevant\n",
            "madrid.txt -> Not relevant\n",
            "rio_de_janeiro.txt -> Relevant\n",
            "sydney.txt -> Relevant\n",
            "tokyo.txt -> Relevant\n"
          ]
        }
      ],
      "source": [
        "for file in files:\n",
        "    # Read journal file for the city\n",
        "    f = open(file, \"r\")\n",
        "    journal = f.read()\n",
        "    f.close()\n",
        "\n",
        "    # Create prompt\n",
        "    prompt = f\"\"\"Respond with \"Relevant\" or \"Not relevant\":\n",
        "    the journal describes restaurants and their specialties.\n",
        "\n",
        "    Journal:\n",
        "    {journal}\"\"\"\n",
        "\n",
        "    # Use LLM to determine if the journal entry is useful\n",
        "    print(f\"{file} -> {get_llm_response(prompt)}\")"
      ]
    },
    {
      "cell_type": "markdown",
      "metadata": {
        "id": "C9XERv0aLS6n"
      },
      "source": [
        "It seems that the Madrid journal entry is not relevant. Let's print its contents to see why the LLM flagged it as \"not relevant\":"
      ]
    },
    {
      "cell_type": "code",
      "execution_count": null,
      "metadata": {
        "height": 80,
        "id": "7XUsZNc3LS6o",
        "outputId": "2d87a786-7d01-4aa9-ac5b-c6f3bf0a2d7d"
      },
      "outputs": [
        {
          "name": "stdout",
          "output_type": "stream",
          "text": [
            "Madrid, as Spain's capital and largest city, is a key player in the nation's economy. Historically centered around its administrative functions, Madrid has evolved into a major financial hub, hosting the Madrid Stock Exchange and the headquarters of numerous national and international companies.\n",
            "\n",
            "The service sector, especially tourism, is vital to Madrid's economy. Millions of tourists visit annually, attracted by the city's cultural landmarks, museums, and vibrant nightlife. Additionally, trade fairs and conferences at venues like IFEMA (Feria de Madrid) bring significant business traffic.\n",
            "\n",
            "Innovation and technology are also growing sectors in Madrid. The city boasts a thriving startup ecosystem and hosts many tech companies, supported by a highly educated workforce from its universities and research institutions. This has spurred growth in IT, biotechnology, and renewable energy.\n",
            "\n",
            "Madrid's well-developed transportation network, including a comprehensive metro system, high-speed rail, and Adolfo Suárez Madrid-Barajas Airport, enhances its role as a logistical and commercial hub. This connectivity supports trade and commerce, both within Spain and internationally, solidifying Madrid's status as a leading economic center in Europe.\n",
            "\n"
          ]
        }
      ],
      "source": [
        "# Here you can check the content from any journal entry\n",
        "f = open(\"madrid.txt\", \"r\")\n",
        "print(f.read())\n",
        "f.close()"
      ]
    },
    {
      "cell_type": "markdown",
      "metadata": {
        "id": "v9QseLd3LS6o"
      },
      "source": [
        "The Madrid journal entry doesn't contain information about restaurants to try. Instead, it is a description of the economy of the city."
      ]
    },
    {
      "cell_type": "markdown",
      "metadata": {
        "id": "oN9_BA5ULS6o"
      },
      "source": [
        "<p style=\"background-color:#F5C780; padding:15px\"> 🤖 <b>Use the Chatbot</b>:\n",
        "    <br><br>\n",
        "    I am using AI to determine whether different texts are \"relevant\" or \"not relevant\" using an LLM. Does this task have a specific name in AI?\n",
        "</p>"
      ]
    },
    {
      "cell_type": "markdown",
      "metadata": {
        "id": "c0ubewYqLS6o"
      },
      "source": [
        "## Extra practice\n",
        "\n",
        "Experiment with different prompts to check whether files are of interest to you or not. Below is the example suggested in the video - try running it first. Then, try each exercise.\n",
        "\n",
        "### Exercise 1\n",
        "\n",
        "Change the prompt to classify the text for different topics, for example \"mentions a dessert\" or \"describes the restaurant design.\""
      ]
    },
    {
      "cell_type": "code",
      "execution_count": null,
      "metadata": {
        "height": 318,
        "id": "z3rTBwhhLS6o",
        "outputId": "b7a219d5-18a3-4f03-8a98-61b152f4b335"
      },
      "outputs": [
        {
          "name": "stdout",
          "output_type": "stream",
          "text": [
            "cape_town.txt -> Yes\n",
            "madrid.txt -> No\n",
            "rio_de_janeiro.txt -> Yes\n",
            "sydney.txt -> No\n",
            "tokyo.txt -> No\n"
          ]
        }
      ],
      "source": [
        "files = [\"cape_town.txt\", \"madrid.txt\", \"rio_de_janeiro.txt\",\n",
        "         \"sydney.txt\", \"tokyo.txt\"]\n",
        "\n",
        "for file in files:\n",
        "    # Read journal file for the city\n",
        "    f = open(file, \"r\")\n",
        "    journal = f.read()\n",
        "    f.close()\n",
        "\n",
        "    # TRY CHANGING THIS PROMPT TO ASK DIFFERENT QUESTIONS\n",
        "    prompt = f\"\"\"Respond with \"Yes\" or \"No\":\n",
        "    the journal describes the restaurant design.\n",
        "\n",
        "    Journal:\n",
        "    {journal}\"\"\"\n",
        "\n",
        "    # Use LLM to determine if the journal entry is useful\n",
        "    print(f\"{file} -> {get_llm_response(prompt)}\")"
      ]
    },
    {
      "cell_type": "markdown",
      "metadata": {
        "id": "cEtALzTaLS6p"
      },
      "source": [
        "### Exercise 2\n",
        "\n",
        "Using the same code below, change the prompt to classify into more than two categories.\n",
        "\n",
        "**Example:**\n",
        "- mentions a **vegetarian** dish\n",
        "- mentions a **vegan** dish\n",
        "- mentions both\n",
        "- mentions neither"
      ]
    },
    {
      "cell_type": "code",
      "execution_count": null,
      "metadata": {
        "height": 318,
        "id": "Is3gSpuxLS6p",
        "outputId": "4fe0642e-942a-4f44-d17d-31804888460f"
      },
      "outputs": [
        {
          "name": "stdout",
          "output_type": "stream",
          "text": [
            "cape_town.txt -> No\n",
            "madrid.txt -> No\n",
            "rio_de_janeiro.txt -> No\n",
            "sydney.txt -> No\n",
            "tokyo.txt -> No\n"
          ]
        }
      ],
      "source": [
        "files = [\"cape_town.txt\", \"madrid.txt\", \"rio_de_janeiro.txt\",\n",
        "         \"sydney.txt\", \"tokyo.txt\"]\n",
        "\n",
        "for file in files:\n",
        "    # Read journal file for the city\n",
        "    f = open(file, \"r\")\n",
        "    journal = f.read()\n",
        "    f.close()\n",
        "\n",
        "    # TRY CHANGING THIS PROMPT TO ASK DIFFERENT QUESTIONS\n",
        "    prompt = f\"\"\"Respond with \"Yes\" or \"No\":\n",
        "    the journal mentions a vegetarian and vegan dish.\n",
        "\n",
        "    Journal:\n",
        "    {journal}\"\"\"\n",
        "\n",
        "    # Use LLM to determine if the journal entry is useful\n",
        "    print(f\"{file} -> {get_llm_response(prompt)}\")"
      ]
    }
  ],
  "metadata": {
    "kernelspec": {
      "display_name": "Python 3 (ipykernel)",
      "language": "python",
      "name": "python3"
    },
    "language_info": {
      "codemirror_mode": {
        "name": "ipython",
        "version": 3
      },
      "file_extension": ".py",
      "mimetype": "text/x-python",
      "name": "python",
      "nbconvert_exporter": "python",
      "pygments_lexer": "ipython3",
      "version": "3.9.19"
    },
    "colab": {
      "provenance": [],
      "include_colab_link": true
    }
  },
  "nbformat": 4,
  "nbformat_minor": 0
}