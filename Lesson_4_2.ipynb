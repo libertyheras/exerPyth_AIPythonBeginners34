{
  "cells": [
    {
      "cell_type": "markdown",
      "metadata": {
        "id": "view-in-github",
        "colab_type": "text"
      },
      "source": [
        "<a href=\"https://colab.research.google.com/github/libertyheras/exerPyth_AIPythonBeginners34/blob/main/Lesson_4_2.ipynb\" target=\"_parent\"><img src=\"https://colab.research.google.com/assets/colab-badge.svg\" alt=\"Open In Colab\"/></a>"
      ]
    },
    {
      "cell_type": "markdown",
      "metadata": {
        "id": "FbWoGOis4KoG"
      },
      "source": [
        "# Lesson 2: Built-in packages"
      ]
    },
    {
      "cell_type": "markdown",
      "metadata": {
        "id": "iFBPeP23sJM-"
      },
      "source": [
        "In this lesson, you'll learn how to work with **packages** (sometimes called **modules**) that are built-in to Python.\n",
        "\n",
        "These packages contain functions that can be made available in your programs using the same `import` statements you learned in the last lesson."
      ]
    },
    {
      "cell_type": "markdown",
      "metadata": {
        "id": "6TxhFxfssJM_"
      },
      "source": [
        "## The `math` package"
      ]
    },
    {
      "cell_type": "markdown",
      "metadata": {
        "id": "uS9vtbKLsJM_"
      },
      "source": [
        "Imagine that you want to show your neighbor's kid how to double-check his trigonometry homework using Python.\n",
        "\n",
        "Python contains functions in the ```math``` package that can let you do trigonometry. Let's load the ```cos, sin``` and ```pi``` functions and use them.\n",
        "\n",
        "You make these functions available with the following code:"
      ]
    },
    {
      "cell_type": "code",
      "execution_count": null,
      "metadata": {
        "height": 46,
        "id": "AyxJ23_5sJM_"
      },
      "outputs": [],
      "source": [
        "# Import from the math package the cos, sin and pi functions\n",
        "from math import cos, sin, pi"
      ]
    },
    {
      "cell_type": "markdown",
      "metadata": {
        "id": "DmEMOX9GsJNA"
      },
      "source": [
        "The `pi` you just loaded isn't actually a function, it's a single number:"
      ]
    },
    {
      "cell_type": "code",
      "execution_count": null,
      "metadata": {
        "height": 29,
        "id": "8TinuNcnsJNA",
        "outputId": "14c8cb3c-332c-4a4b-deda-32d2846d5a62"
      },
      "outputs": [
        {
          "name": "stdout",
          "output_type": "stream",
          "text": [
            "3.141592653589793\n"
          ]
        }
      ],
      "source": [
        "print(pi)"
      ]
    },
    {
      "cell_type": "markdown",
      "metadata": {
        "id": "3bS3BAFQsJNB"
      },
      "source": [
        "You can check the data type using the `type` function:"
      ]
    },
    {
      "cell_type": "code",
      "execution_count": null,
      "metadata": {
        "height": 29,
        "id": "gG6Gki5SsJNB",
        "outputId": "934fa896-dcec-4061-ff7f-151ce3927edf"
      },
      "outputs": [
        {
          "data": {
            "text/plain": [
              "float"
            ]
          },
          "execution_count": 3,
          "metadata": {},
          "output_type": "execute_result"
        }
      ],
      "source": [
        "type(pi)"
      ]
    },
    {
      "cell_type": "markdown",
      "metadata": {
        "id": "RlBjPcIAsJNB"
      },
      "source": [
        "Next, define a list of values for which you want to compute ```cos``` and ```sin```:"
      ]
    },
    {
      "cell_type": "code",
      "execution_count": null,
      "metadata": {
        "height": 29,
        "id": "nAPFHMpFsJNB"
      },
      "outputs": [],
      "source": [
        "values = [0, pi/2, pi, 3/2*pi, 2*pi]"
      ]
    },
    {
      "cell_type": "markdown",
      "metadata": {
        "id": "Zi6yRjJOsJNB"
      },
      "source": [
        "Iterate through the list of values using a ```for``` loop and calculate the ```cos``` function for each value:"
      ]
    },
    {
      "cell_type": "code",
      "execution_count": null,
      "metadata": {
        "height": 46,
        "id": "_hdehjnusJNB",
        "outputId": "d505e289-32fe-4deb-de99-d8289a1ef9ca"
      },
      "outputs": [
        {
          "name": "stdout",
          "output_type": "stream",
          "text": [
            "The cosine of 0.00 is 1.00\n",
            "The cosine of 1.57 is 0.00\n",
            "The cosine of 3.14 is -1.00\n",
            "The cosine of 4.71 is -0.00\n",
            "The cosine of 6.28 is 1.00\n"
          ]
        }
      ],
      "source": [
        "for value in values:\n",
        "    print(f\"The cosine of {value:.2f} is {cos(value):.2f}\")"
      ]
    },
    {
      "cell_type": "markdown",
      "metadata": {
        "id": "8VpXBNPnsJNC"
      },
      "source": [
        "### Try for yourself!\n",
        "\n",
        "Pause the video and update the code below to calculate the sine instead of cosine!"
      ]
    },
    {
      "cell_type": "code",
      "execution_count": null,
      "metadata": {
        "height": 46,
        "id": "_h3_Em7CsJNC",
        "outputId": "44298c44-66b1-4e1a-f8b6-f39d99f4634b"
      },
      "outputs": [
        {
          "name": "stdout",
          "output_type": "stream",
          "text": [
            "The sine of 0.00 is 1.00\n",
            "The sine of 1.57 is 0.00\n",
            "The sine of 3.14 is -1.00\n",
            "The sine of 4.71 is -0.00\n",
            "The sine of 6.28 is 1.00\n"
          ]
        }
      ],
      "source": [
        "for value in values:\n",
        "    print(f\"The sine of {value:.2f} is {cos(value):.2f}\")"
      ]
    },
    {
      "cell_type": "markdown",
      "metadata": {
        "id": "6AHvEe8DsJNC"
      },
      "source": [
        "The `math` package contains a function called `floor` that rounds values down to the nearest whole number.\n",
        "\n",
        "Try the code below to use it\n",
        "* 🚨 Alert! This will return an error!"
      ]
    },
    {
      "cell_type": "code",
      "execution_count": null,
      "metadata": {
        "height": 29,
        "id": "_i8zFcBRsJNC",
        "outputId": "5f120faa-76bf-4dd5-e50a-a28d8fa58d22"
      },
      "outputs": [
        {
          "ename": "NameError",
          "evalue": "name 'floor' is not defined",
          "output_type": "error",
          "traceback": [
            "\u001b[0;31m---------------------------------------------------------------------------\u001b[0m",
            "\u001b[0;31mNameError\u001b[0m                                 Traceback (most recent call last)",
            "Cell \u001b[0;32mIn[7], line 1\u001b[0m\n\u001b[0;32m----> 1\u001b[0m \u001b[43mfloor\u001b[49m(\u001b[38;5;241m5.7\u001b[39m)\n",
            "\u001b[0;31mNameError\u001b[0m: name 'floor' is not defined"
          ]
        }
      ],
      "source": [
        "floor(5.7)"
      ]
    },
    {
      "cell_type": "markdown",
      "metadata": {
        "id": "DnNi_251sJND"
      },
      "source": [
        "This code gave an error because you hadn't yet imported the function so that it could be used. Let's do that now:"
      ]
    },
    {
      "cell_type": "code",
      "execution_count": null,
      "metadata": {
        "height": 29,
        "id": "tXAJdzxEsJND"
      },
      "outputs": [],
      "source": [
        "from math import floor"
      ]
    },
    {
      "cell_type": "markdown",
      "metadata": {
        "id": "-Kt6qbScsJND"
      },
      "source": [
        "Now you can run the code:"
      ]
    },
    {
      "cell_type": "code",
      "execution_count": null,
      "metadata": {
        "height": 46,
        "id": "h3A85NfYsJND",
        "outputId": "add10d9c-25ab-491b-c109-9073c4914475"
      },
      "outputs": [
        {
          "data": {
            "text/plain": [
              "5"
            ]
          },
          "execution_count": 9,
          "metadata": {},
          "output_type": "execute_result"
        }
      ],
      "source": [
        "# Try again\n",
        "floor(5.7)"
      ]
    },
    {
      "cell_type": "markdown",
      "metadata": {
        "id": "jTxoJRsssJND"
      },
      "source": [
        "You can ask the chatbot to tell you about more functions in the `math` package, or look up the documentation [here](https://docs.python.org/3/library/math.html)."
      ]
    },
    {
      "cell_type": "markdown",
      "metadata": {
        "id": "ynwS8867sJND"
      },
      "source": [
        "## Calculating useful statistics with `statistics`"
      ]
    },
    {
      "cell_type": "markdown",
      "metadata": {
        "id": "5d3ivErbsJND"
      },
      "source": [
        "Python also comes with a package for ```statistics```. You can use it to compute common statistics like mean, median, or standard deviation.\n",
        "\n",
        "To try it out, let's import the ```mean``` and ```stdev``` functions from the `math` package:"
      ]
    },
    {
      "cell_type": "code",
      "execution_count": null,
      "metadata": {
        "height": 29,
        "id": "VOsbgib5sJNE"
      },
      "outputs": [],
      "source": [
        "from statistics import mean, stdev"
      ]
    },
    {
      "cell_type": "markdown",
      "metadata": {
        "id": "jxqqyh50sJNE"
      },
      "source": [
        "First, create a list that contains the heights of a group of friend's heights:"
      ]
    },
    {
      "cell_type": "code",
      "execution_count": null,
      "metadata": {
        "height": 46,
        "id": "X1_SplRMsJNE"
      },
      "outputs": [],
      "source": [
        "my_friends_heights = [160, 172, 155, 180, 165, 170, 158, 182, 175, 168]"
      ]
    },
    {
      "cell_type": "markdown",
      "metadata": {
        "id": "57EntMQlsJNE"
      },
      "source": [
        "You can now calculate the ```mean``` value of the list of heights using the `mean` function:"
      ]
    },
    {
      "cell_type": "code",
      "execution_count": null,
      "metadata": {
        "height": 29,
        "id": "5QeAu3--sJNE",
        "outputId": "8d671a59-45d4-4264-b691-291e2848580d"
      },
      "outputs": [
        {
          "data": {
            "text/plain": [
              "168.5"
            ]
          },
          "execution_count": 12,
          "metadata": {},
          "output_type": "execute_result"
        }
      ],
      "source": [
        "mean(my_friends_heights)"
      ]
    },
    {
      "cell_type": "markdown",
      "metadata": {
        "id": "lYWma5SasJNE"
      },
      "source": [
        "You can also calculate the standard deviation of the heights using the ```stdev``` function:"
      ]
    },
    {
      "cell_type": "code",
      "execution_count": null,
      "metadata": {
        "height": 29,
        "id": "R7ADbPjUsJNE",
        "outputId": "38c43db3-404e-416f-e3ca-4c40725f228f"
      },
      "outputs": [
        {
          "data": {
            "text/plain": [
              "9.119576013536301"
            ]
          },
          "execution_count": 13,
          "metadata": {},
          "output_type": "execute_result"
        }
      ],
      "source": [
        "stdev(my_friends_heights)"
      ]
    },
    {
      "cell_type": "markdown",
      "metadata": {
        "id": "W0mZ4WRAsJNE"
      },
      "source": [
        "There are other functions in the statistics package that you can import to calculate other statistics, like median, etc. You can read more about the statistics package [here](https://docs.python.org/3/library/statistics.html) - or ask the chatbot!"
      ]
    },
    {
      "cell_type": "markdown",
      "metadata": {
        "id": "g4e92eZysJNE"
      },
      "source": [
        "## Introducting randomness to your programs with `random`"
      ]
    },
    {
      "cell_type": "markdown",
      "metadata": {
        "id": "SYpj1Ha9sJNE"
      },
      "source": [
        "Python also comes with a ```random``` package that generates random numbers and selects random elements from a list. This can be very useful in coding projects! You can read more about `random` [here](https://docs.python.org/3/library/random.html).\n",
        "\n",
        "You'll write code here to randomly sample from a list of items. To get started, import the ```sample``` function from the ```random``` module:"
      ]
    },
    {
      "cell_type": "code",
      "execution_count": null,
      "metadata": {
        "height": 29,
        "id": "RMHb5P4isJNE"
      },
      "outputs": [],
      "source": [
        "from random import sample"
      ]
    },
    {
      "cell_type": "markdown",
      "metadata": {
        "id": "fMS3UmIIsJNF"
      },
      "source": [
        "<p style=\"background-color:#F5C780; padding:15px\"> 🤖 <b>Use the Chatbot</b>:\n",
        "<br>Explain how to use the function sample from the random module.</p>"
      ]
    },
    {
      "cell_type": "markdown",
      "metadata": {
        "id": "V1VfGG3tsJNF"
      },
      "source": [
        "Create lists of ingredients and that you'll select from and pass to the LLM for recipe suggestions:"
      ]
    },
    {
      "cell_type": "code",
      "execution_count": null,
      "metadata": {
        "height": 63,
        "id": "EoUJZaUKsJNF"
      },
      "outputs": [],
      "source": [
        "spices = [\"cumin\", \"turmeric\", \"oregano\", \"paprika\"]\n",
        "vegetables = [\"lettuce\", \"tomato\", \"carrot\", \"broccoli\"]\n",
        "proteins = [\"chicken\", \"tofu\", \"beef\", \"fish\", \"tempeh\"]"
      ]
    },
    {
      "cell_type": "markdown",
      "metadata": {
        "id": "jg7vCJFzsJNF"
      },
      "source": [
        "You can use Python to select random ingredients for you from these lists.\n",
        "\n",
        "The ```sample``` function takes two parameters: the list you want to select from, and the number of items you want to select:"
      ]
    },
    {
      "cell_type": "code",
      "execution_count": null,
      "metadata": {
        "height": 63,
        "id": "wat-ss65sJNF"
      },
      "outputs": [],
      "source": [
        "random_spices = sample(spices, 2)\n",
        "random_vegetables = sample(vegetables, 2)\n",
        "random_protein = sample(proteins, 1)"
      ]
    },
    {
      "cell_type": "markdown",
      "metadata": {
        "id": "3AgH1w-_sJNF"
      },
      "source": [
        "See what ingredients you selected:"
      ]
    },
    {
      "cell_type": "code",
      "execution_count": null,
      "metadata": {
        "height": 29,
        "id": "eD82Z4PUsJNF",
        "outputId": "5514868e-50e1-45ff-9618-eea4bf1733dd"
      },
      "outputs": [
        {
          "name": "stdout",
          "output_type": "stream",
          "text": [
            "['tempeh']\n"
          ]
        }
      ],
      "source": [
        "print(random_protein)"
      ]
    },
    {
      "cell_type": "markdown",
      "metadata": {
        "id": "rxpZFlZqsJNG"
      },
      "source": [
        "## Try for yourself!\n",
        "\n",
        "Pause the video here, and try running the last two cells again.\n",
        "* You'll see that you get different ingredients each time!\n",
        "* Check the `random_spices` and `random_vegetables` variables too and see that they also change"
      ]
    },
    {
      "cell_type": "markdown",
      "metadata": {
        "id": "glVTdD0qsJNG"
      },
      "source": [
        "## Use an LLM to suggest a recipe for you using those 'randomly selected' ingredients.\n",
        "\n",
        "Create a prompt that asks an LLM to create a recipe using your randomly selected ingredients:"
      ]
    },
    {
      "cell_type": "code",
      "execution_count": null,
      "metadata": {
        "height": 131,
        "id": "44R7r86gsJNG"
      },
      "outputs": [],
      "source": [
        "prompt = f\"\"\"Please suggest a recipe that includes the following ingredients.\n",
        "\n",
        "Spices: {random_spices}\n",
        "Vegetables: {random_vegetables}\n",
        "Proteins: {random_protein}\n",
        "\"\"\""
      ]
    },
    {
      "cell_type": "markdown",
      "metadata": {
        "id": "OwjthooQsJNG"
      },
      "source": [
        "Check the prompt to see the ingredients:"
      ]
    },
    {
      "cell_type": "code",
      "execution_count": null,
      "metadata": {
        "height": 29,
        "id": "xRzffq6CsJNG",
        "outputId": "b0a07b23-1a6c-45c3-f8da-a8edbd26111c"
      },
      "outputs": [
        {
          "name": "stdout",
          "output_type": "stream",
          "text": [
            "Please suggest a recipe that includes the following ingredients.\n",
            "\n",
            "Spices: ['turmeric', 'oregano']\n",
            "Vegetables: ['broccoli', 'tomato']\n",
            "Proteins: ['tempeh']\n",
            "\n"
          ]
        }
      ],
      "source": [
        "print(prompt)"
      ]
    },
    {
      "cell_type": "markdown",
      "metadata": {
        "id": "S8Gcp614sJNG"
      },
      "source": [
        "Next, import the `get_llm_response` function from `helper_functions.py` to use to generate the recipe:"
      ]
    },
    {
      "cell_type": "code",
      "execution_count": null,
      "metadata": {
        "height": 29,
        "id": "a4RbbrkhsJNG"
      },
      "outputs": [],
      "source": [
        "from helper_functions import get_llm_response"
      ]
    },
    {
      "cell_type": "markdown",
      "metadata": {
        "id": "Qoc3py3LsJNG"
      },
      "source": [
        "Next, pass the prompt to the LLM, store the response in a variable named `recipe`, and then print the result:"
      ]
    },
    {
      "cell_type": "code",
      "execution_count": null,
      "metadata": {
        "height": 63,
        "id": "S_R7TUznsJNG",
        "outputId": "0633c261-45e1-4db6-a527-95f43bee9668"
      },
      "outputs": [
        {
          "name": "stdout",
          "output_type": "stream",
          "text": [
            "**Turmeric Oregano Tempeh with Broccoli and Tomato**\n",
            "\n",
            "**Ingredients:**\n",
            "- 1 block tempeh, cubed\n",
            "- 2 cups broccoli florets\n",
            "- 1 large tomato, diced\n",
            "- 1 tsp turmeric\n",
            "- 1 tsp oregano\n",
            "- 2 tbsp olive oil\n",
            "- Salt and pepper to taste\n",
            "- Optional: lemon juice for serving\n",
            "\n",
            "**Instructions:**\n",
            "\n",
            "1. **Prepare Tempeh:** In a bowl, toss cubed tempeh with turmeric, oregano, salt, and pepper.\n",
            "\n",
            "2. **Cook Tempeh:** Heat 1 tbsp olive oil in a skillet over medium heat. Add tempeh and cook until golden brown, about 5-7 minutes. Remove and set aside.\n",
            "\n",
            "3. **Sauté Vegetables:** In the same skillet, add remaining olive oil. Add broccoli and sauté for 3-4 minutes until tender. Add diced tomato and cook for another 2 minutes.\n",
            "\n",
            "4. **Combine:** Return tempeh to the skillet, mix well, and heat through.\n",
            "\n",
            "5. **Serve:** Adjust seasoning if needed. Drizzle with lemon juice if desired. Enjoy!\n"
          ]
        }
      ],
      "source": [
        "recipe = get_llm_response(prompt)\n",
        "\n",
        "print(recipe)"
      ]
    },
    {
      "cell_type": "markdown",
      "metadata": {
        "id": "v8P-U8OksJNG"
      },
      "source": [
        "## Extra practice\n",
        "\n",
        "Try the following exercises to practice what you have learned. If you need help, don't hesitate to ask the 🤖 chatbot!\n",
        "\n",
        "### Exercise 1\n",
        "\n",
        "Write code to import the `tan` (tangent) function from `math`, then calculate and print the tan of each value.\n"
      ]
    },
    {
      "cell_type": "code",
      "execution_count": null,
      "metadata": {
        "height": 114,
        "id": "hn9FY-FHsJNH",
        "outputId": "4ebd8b24-d856-42f7-f017-a3564b122401"
      },
      "outputs": [
        {
          "name": "stdout",
          "output_type": "stream",
          "text": [
            "The tangent of 0.00 is 0.00\n",
            "The tangent of 1.57 is 16331239353195370.00\n",
            "The tangent of 3.14 is -0.00\n",
            "The tangent of 4.71 is 5443746451065123.00\n",
            "The tangent of 6.28 is -0.00\n"
          ]
        }
      ],
      "source": [
        "from math import tan, pi\n",
        "\n",
        "values = [0, pi/2, pi, 3/2*pi, 2*pi]\n",
        "\n",
        "for value in values:\n",
        "    print(f\"The tangent of {value:.2f} is {tan(value):.2f}\")"
      ]
    },
    {
      "cell_type": "markdown",
      "metadata": {
        "id": "h96hVsrcsJNH"
      },
      "source": [
        "### Exercise 2\n",
        "\n",
        "Write code to calculate the median score in the list of scores below. You'll need to write an import statement as well as use the `median` function on your data."
      ]
    },
    {
      "cell_type": "code",
      "execution_count": null,
      "metadata": {
        "height": 131,
        "id": "SPBtzzBrsJNH",
        "outputId": "0d64db8c-c491-48b0-cbd0-02be66ee73dd"
      },
      "outputs": [
        {
          "name": "stdout",
          "output_type": "stream",
          "text": [
            "25\n"
          ]
        }
      ],
      "source": [
        "from statistics import median\n",
        "\n",
        "scores = [28, 14, 15, 25, 21, 26, 30, 8, 36]\n",
        "\n",
        "# Calculate the median score\n",
        "median_score = median(scores)\n",
        "print(median_score)"
      ]
    },
    {
      "cell_type": "markdown",
      "metadata": {
        "id": "zdS1-A_JsJNH"
      },
      "source": [
        "### Challenge exercise!\n",
        "\n",
        "Write code using Python's built-in random package to print a random number between 1 and 10.\n",
        "\n",
        "Work with a chatbot, or consult the `random` package's [documentation website](https://docs.python.org/3/library/random.html) when you need help."
      ]
    },
    {
      "cell_type": "code",
      "execution_count": null,
      "metadata": {
        "height": 97,
        "id": "1g4d_cQ2sJNH",
        "outputId": "c074a23e-4fa0-411e-f6cc-3fd8db9f366c"
      },
      "outputs": [
        {
          "name": "stdout",
          "output_type": "stream",
          "text": [
            "9\n"
          ]
        }
      ],
      "source": [
        "# YOUR CODE HERE\n",
        "from random import randint\n",
        "\n",
        "random_number = randint(1, 10)\n",
        "print(random_number)"
      ]
    }
  ],
  "metadata": {
    "colab": {
      "provenance": [],
      "include_colab_link": true
    },
    "kernelspec": {
      "display_name": "Python 3 (ipykernel)",
      "language": "python",
      "name": "python3"
    },
    "language_info": {
      "codemirror_mode": {
        "name": "ipython",
        "version": 3
      },
      "file_extension": ".py",
      "mimetype": "text/x-python",
      "name": "python",
      "nbconvert_exporter": "python",
      "pygments_lexer": "ipython3",
      "version": "3.9.19"
    }
  },
  "nbformat": 4,
  "nbformat_minor": 0
}